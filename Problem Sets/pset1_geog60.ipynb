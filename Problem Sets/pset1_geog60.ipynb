{
 "cells": [
  {
   "cell_type": "markdown",
   "metadata": {},
   "source": [
    "# **GEOG 60.01** ***Problem Set #1***"
   ]
  },
  {
   "cell_type": "markdown",
   "metadata": {},
   "source": [
    "### Instructions\n",
    "\n",
    "- **Save a copy of this PS to your jhub directory**, naming the file as follows:\n",
    "`lastname_firstname_pset1_geog60.ipynb`\n",
    "\n",
    "- **Complete the problems below by typing answers in additional cells you have created**. Save often.\n",
    "\n",
    "- Some assignments have **optional bonus problems**. These are meant to be interesting and thought-provoking, but are not required. Extra credit will be given for interesting answers to the bonus problems.\n",
    "\n",
    "- Remember to set your cell types to `Markdown` for text, and `Code` for Python code!\n",
    "\n",
    "- **Include comments** in any code to explain your method as necessary. We want to give you points, not take them away.\n",
    "\n",
    "- Remember to actually answer the questions. **Typed responses to questions in cells you create are required** (not just code and figures!)\n",
    "\n",
    "- You can work on the problem set in groups, with two caveats: (1) **everyone must turn in their own copy in their own words**; (2) **you must list the names of your collaborators in a cell at the end of the problem set**\n",
    "\n",
    "- Your solutions should all be in this **single Jupyter notebook** that contains your text, your code, and your figures.\n",
    "\n",
    "- **To submit this PS once you're done, do the following:**\n",
    "    1. *Make sure that your notebook* ***runs cleanly without errors:***\n",
    "        - Save your notebook\n",
    "        - From the `Kernel` menu, select `Restart & Run All`\n",
    "        - Did the notebook run from start to finish without error and produce the expected output?\n",
    "        - If yes, save again and proceed to the next step\n",
    "        - If no, fix the errors and try again\n",
    "    2. Download your saved PS to your computer with all your answers and figures, `code` and `Markdown` rendered. \n",
    "    3. Turn in your PS by uploading it to Canvas under the PS#1 assigment."
   ]
  },
  {
   "cell_type": "markdown",
   "metadata": {},
   "source": [
    "### Learning goals\n",
    "This problem set is intended to apply and extend concepts from class, whether around modeling practices and pitfalls generally, or Earth System Modeling specifically.\n",
    "\n",
    "Students completing this assignment will gain the following skills and concepts:\n",
    "\n",
    "- More familiarity with the Jupyter notebook\n",
    "- More familiarity with formalizing models\n",
    "- More familiarity with our zero-dimensional Energy Balance Model\n",
    "- An understanding of model practices like sensitivity analysis and calibration\n",
    "- More familiarity with dynamic systems and the factors determining their time dependence\n",
    "- Introduction to the concept of albedo feedback\n",
    "- Use of numerical timestepping to find the equilibrium temperature\n",
    "- Programming skills: arrays, loops, and simple graphs"
   ]
  },
  {
   "cell_type": "markdown",
   "metadata": {},
   "source": [
    "---\n",
    "# Problem 1. Sensitivity Analysis with our EBM\n",
    "---"
   ]
  },
  {
   "cell_type": "markdown",
   "metadata": {},
   "source": [
    "After calibrating parameter values, modelers often pursue a [\"sensitivity analysis\", (SA)](http://www.andreasaltelli.eu/file/repository/Risk_Analysis_2002.PDF), an activity where we assess the uncertainty in our model to (usually) parametric assumptions. [Perturbed physics ensembles](https://archive.ipcc.ch/publications_and_data/ar4/wg1/en/ch10s10-5-4-2.html) with Earth System Models (ESMs) are a common form of SA in climate science. \n",
    "\n",
    "Let's do a rudimentary SA with our EBM from class. \n",
    "\n",
    "At present, the emission temperature, $T_e$, of the Earth at TOA is 255K; Earth's albedo is ~30%.\n",
    "\n",
    "How would emission temperature, $T_e$ change if:\n",
    "    # a. The albedo was reduced to 10% (and all else were held fixed)?\n",
    "    # b. the infrared absorptivity of the atmosphere (epsilon) was doubled, but albedo remained fixed at 30%"
   ]
  },
  {
   "cell_type": "code",
   "execution_count": null,
   "metadata": {},
   "outputs": [],
   "source": [
    "# a. albedo down to 0.1, what happens to equilibrium temperature?"
   ]
  },
  {
   "cell_type": "code",
   "execution_count": null,
   "metadata": {},
   "outputs": [],
   "source": [
    "# WE GIVE THEM: \n",
    "\n",
    "# (empty cell)"
   ]
  },
  {
   "cell_type": "code",
   "execution_count": 1,
   "metadata": {},
   "outputs": [
    {
     "name": "stdout",
     "output_type": "stream",
     "text": [
      "Old temperature: 255.00 K\n",
      "New Emission temperature: 271.30 K\n",
      "∆ Emission temperature: 16.30 K\n"
     ]
    }
   ],
   "source": [
    "## EXAMPLE/POSSIBLE ANSWER ##\n",
    "\n",
    "# changing alpha\n",
    "alpha = 0.1\n",
    "\n",
    "Q = 341.3           # W m-2\n",
    "sigma = 5.67e-8     # S-B Constant\n",
    "\n",
    "# Compute eq. temp. out = in\n",
    "T_e = (((1-alpha) * Q) / sigma)**(1/4)\n",
    "\n",
    "# print\n",
    "print('Old temperature: {:.2f} K'.format(255))\n",
    "print('New Emission temperature: {:.2f} K'.format(T_e))\n",
    "print('∆ Emission temperature: {:.2f} K'.format(T_e-255))"
   ]
  },
  {
   "cell_type": "code",
   "execution_count": null,
   "metadata": {},
   "outputs": [],
   "source": [
    "# b. epsilon doubled, albedo the same"
   ]
  },
  {
   "cell_type": "code",
   "execution_count": null,
   "metadata": {},
   "outputs": [],
   "source": [
    "## EXAMPLE/POSSIBLE ANSWER ##\n",
    "\n",
    "# EMISSON temperature is effectively the sigma*T**4 that OUTER SPACE sees. \n",
    "# Changing epsilon would change Earth's SUFACE temperature / energy balance at the surface,\n",
    "# but will not change the equilibrium amt. of energy outer space sees since there is no \n",
    "# ∆ in energy_in. \n",
    "\n",
    "# (not the best writing but hopefully that makes sense...)"
   ]
  },
  {
   "cell_type": "markdown",
   "metadata": {},
   "source": [
    "---\n",
    "# Problem 2. Model Formalization & the Flat Earther's EBM\n",
    "---"
   ]
  },
  {
   "cell_type": "markdown",
   "metadata": {},
   "source": [
    "[Flat Earther's](https://www.newyorker.com/science/elements/looking-for-life-on-a-flat-earth) are tragic modelers, violating [George Box's](https://en.wikipedia.org/wiki/George_E._P._Box) cardinal rule, that one [\"must not be like Pygmalion, and fall in love with [one’s] model”](https://www-tandfonline-com.dartmouth.idm.oclc.org/doi/abs/10.1080/01621459.1976.10480949).\n",
    "\n",
    "Certainly, a flat Earth EBM would be all wrong given what we observe. To prove them wrong with science, let's get some more practice one of the more challenging steps in the modeling process, that from conceptualization to formalization--from a diagramatic to mathematical model.\n",
    "\n",
    "Let's consider Earth, for the sake of argument, to be a thin circular disk (of radius 6370 km), orbiting the Sun at the same distance as the Earth; the planetary albedo is 30%. \n",
    "\n",
    "The face of this disk always points directly towards the Sun, and the disk is made of perfectly conducting material, so both faces of the disk are the same tempreature. \n",
    "\n",
    "Caluclate the emission (TOA) temperature, $T_e$, of this disk, and compare with our EBM emission temperature, $T_e$, for a spherical Earth.\n",
    "\n",
    "What does simple physics of the TOA emission temperature tell us about the Flat Earther theory? (Write an answer.)"
   ]
  },
  {
   "cell_type": "code",
   "execution_count": null,
   "metadata": {},
   "outputs": [],
   "source": [
    "## EXAMPLE/POSSIBLE ANSWER ##"
   ]
  },
  {
   "cell_type": "markdown",
   "metadata": {},
   "source": [
    "First, look at how the earth will absorb energy as a sphere earth and as a flat earth. \n",
    "\n",
    "- Sphere Earth absorbs sunlight as a disk, so:\n",
    "\n",
    "    - $ \\text{ENERGY IN (SPHERE)} = (1 - \\alpha) L \\pi r^2 $ (S.A. of disk = $\\pi r^2)$"
   ]
  },
  {
   "cell_type": "markdown",
   "metadata": {},
   "source": [
    "- Flat Earth ALSO absorbs sunlight as a disk, so:\n",
    "\n",
    "    - $ \\text{ENERGY IN  (FLAT)} = (1 - \\alpha) L \\pi r^2 $ (S.A. of disk = $\\pi r^2)$"
   ]
  },
  {
   "cell_type": "markdown",
   "metadata": {},
   "source": [
    "Next, look at how the earth will EMIT energy as a sphere earth and as a flat earth. \n",
    "\n",
    "- Sphere Earth emits radiation as a sphere, so:\n",
    "\n",
    "    - $ \\text{ENERGY OUT (SPHERE)} = \\sigma T^4 4 \\pi r^2 $ (S.A. of sphere = 4$\\pi r^2)$"
   ]
  },
  {
   "cell_type": "markdown",
   "metadata": {},
   "source": [
    "- Flat Earth emits radiation as a 2-SIDED disk, so:\n",
    "\n",
    "    - $ \\text{ENERGY OUT (SPHERE)} = \\sigma T^4 2 \\pi r^2 $  (S.A. of disk = $\\pi r^2$, multiply x2)"
   ]
  },
  {
   "cell_type": "markdown",
   "metadata": {},
   "source": [
    "Rearrange to solve for T_eq for both:"
   ]
  },
  {
   "cell_type": "markdown",
   "metadata": {},
   "source": [
    "$$ T_{eq_{sphere}} = \\left( \\frac{(1-\\alpha)Q}{4 \\sigma} \\right)^{\\frac{1}{4}} $$ "
   ]
  },
  {
   "cell_type": "markdown",
   "metadata": {},
   "source": [
    "$$ T_{eq_{disk}} = \\left( \\frac{(1-\\alpha)Q}{2 \\sigma} \\right)^{\\frac{1}{4}} $$ "
   ]
  },
  {
   "cell_type": "markdown",
   "metadata": {},
   "source": [
    "So...\n",
    "\n",
    "$$ T_{eq_{disk}} = 2 T_{eq_{sphere}} $$"
   ]
  },
  {
   "cell_type": "markdown",
   "metadata": {},
   "source": [
    "---\n",
    "# Problem 3. Ocean's Heat Capacity and the Time Dependence of Dynamic Systems\n",
    "---"
   ]
  },
  {
   "cell_type": "markdown",
   "metadata": {},
   "source": [
    "Dynamic systems are, by definition, systems that we assess as a function of time. \n",
    "\n",
    "The time it takes for a system to reach equilibrium or respond to a perturbation matters (e.g., consider the [\"velocity\" of climate change](https://www.nature.com/articles/nature08649). \n",
    "\n",
    "Returning to our dynamic EBM, we now suppose that:\n",
    "\n",
    "$$ E = C T_s $$\n",
    "\n",
    "where $E$ is the total in **[enthalpy](https://en.wikipedia.org/wiki/Enthalpy)** or **heat content** of the Earth; $T_s$ is the **global mean surface (not emission) temperature**, and $C$ is a parameter representing the **effective heat capacity** of the atmosphere-ocean column; it represents the size of our reservoir for heat, and it helps convert units of energy into units of temperature.\n",
    "then our budget equation becomes:"
   ]
  },
  {
   "cell_type": "markdown",
   "metadata": {},
   "source": [
    "\n",
    "$$ C \\frac{dT_s}{dt} = \\text{ASR} - \\text{OLR} $$"
   ]
  },
  {
   "cell_type": "markdown",
   "metadata": {},
   "source": [
    "where\n",
    "\n",
    "- $C$ is the **heat capacity** of Earth system, in units of J m$^{-2}$ K$^{-1}$.\n",
    "- $\\frac{dT_s}{dt}$ is the rate of change of global average surface temperature."
   ]
  },
  {
   "cell_type": "markdown",
   "metadata": {
    "slideshow": {
     "slide_type": "slide"
    }
   },
   "source": [
    "By adopting this equation, we are assuming that the energy content of the Earth system (atmosphere, ocean, ice, etc.) is *proportional to surface temperature*.\n",
    "\n",
    "The ocean is incredibly important here. The [specific heat of water](https://en.wikipedia.org/wiki/Specific_heat_capacity) is very large, meaning it takes a tremendous amount of energy to change water's temperature by one degree. This feature of water, and the fact that ~70% of the Earth is water means that the oceans buffer (i.e., absorb) much of the excess energy from global warming. "
   ]
  },
  {
   "cell_type": "markdown",
   "metadata": {
    "slideshow": {
     "slide_type": "slide"
    }
   },
   "source": [
    "To start, we are going to use a value of C equivalent to heating 100 meters of water:\n",
    "\n",
    "$$C = c_w \\rho_w H$$\n",
    "\n",
    "where \n",
    "\n",
    "$c_w = 4 \\times 10^3$ J kg$^{-1}$ $^\\circ$K$^{-1}$ is the specific heat of water, \n",
    "\n",
    "$\\rho_w = 10^3$ kg m$^{-3}$ is the density of water, and\n",
    "\n",
    "$H$ is an effective depth of water that is heated or cooled - **this is the lever we're going to pull on**"
   ]
  },
  {
   "cell_type": "code",
   "execution_count": 2,
   "metadata": {},
   "outputs": [],
   "source": [
    "c_w = 4E3  #  Specific heat of water in J/kg/K\n",
    "rho_w = 1E3  #  Density of water in kg/m3"
   ]
  },
  {
   "cell_type": "markdown",
   "metadata": {},
   "source": [
    "In Friday's practical, we defined a time dependent EBM for the global mean surface temperature $T_s$ as follows\n",
    "\n",
    "$$ C  \\frac{dT_s}{dt} = \\text{ASR} - \\text{OLR}$$"
   ]
  },
  {
   "cell_type": "markdown",
   "metadata": {},
   "source": [
    "Refer back to our class practicals for the implementation of our time dependent EBM and the relevant parameter values.\n",
    "\n",
    "1. If the heat penetrated to twice as deep into the ocean, the value of $C$ would be twice as large. Would this affect the **equilibrium temperature**, $T_eq$? Why or why not?\n",
    "2. Define a simple function to caculated $C$, based on its equation above.\n",
    "3. Use this function to perform a simple sensitivity analysis to calculate how long it takes for our time-dependent EBM to reach its equilibrium temperature, $T_eq$, for two ocean depths:\n",
    "    - 100 m\n",
    "    - 500 m\n",
    "        - NOTE: You can read these equilibrium times off of an array, a plot, or define a function to make this calculation of time to equilibrium.\n",
    "4. Reflect on these results -- what do your results show about the role of heat capacity on climate change and or its timescales? **Give a short written answer.**"
   ]
  },
  {
   "cell_type": "code",
   "execution_count": 5,
   "metadata": {},
   "outputs": [],
   "source": [
    "# import numpy\n",
    "import numpy as np\n",
    "import matplotlib.pyplot as plt"
   ]
  },
  {
   "cell_type": "code",
   "execution_count": 10,
   "metadata": {},
   "outputs": [],
   "source": [
    "\n",
    "\n",
    "# function to compute C given H (maybe I should get rid of the huge description and make it super concise)\n",
    "def compute_C(H):\n",
    "    '''\n",
    "    This function computes Ocean Heat Capacity based on the equation\n",
    "    C = c_w * rho_w * H\n",
    "    \n",
    "    C = heat capacity\n",
    "    c_w = specific heat of water (CONSTANT)\n",
    "    rho_w = density of water (CONSTANT)\n",
    "    H = effective depth of water that is heated\n",
    "    \n",
    "    Args: \n",
    "        H\n",
    "        \n",
    "    Returns: \n",
    "        C\n",
    "    '''\n",
    "    \n",
    "    # Set CONSTANTS:\n",
    "    c_w = 4e3     # J kg-1 ˚C-2\n",
    "    rho_w = 1e3  # kg m-3\n",
    "    \n",
    "    C = c_w * rho_w * H\n",
    "    \n",
    "    return C"
   ]
  },
  {
   "cell_type": "raw",
   "metadata": {},
   "source": [
    "# CONCISE version of the above function:\n",
    "def compute_C(H):\n",
    "    return 4e3 * 1e3 * H"
   ]
  },
  {
   "cell_type": "code",
   "execution_count": 39,
   "metadata": {},
   "outputs": [],
   "source": [
    "# functions to compute ASR and OLR\n",
    "\n",
    "def ASR(Q=Q, alpha=0.32):  # Setting the default to the NEW alpha value here\n",
    "    return (1-alpha) * Q\n",
    "\n",
    "def OLR(T, epsilon=0.57, sigma=5.67e-8): # Setting the defaults to the NEW epsilon value here\n",
    "    return epsilon * sigma * T**4\n",
    "\n",
    "# function to 'step forward' in time\n",
    "def step_forward(T, C): \n",
    "    return T + dt / C * (ASR(Q) - OLR(T) )\n",
    "# This is just giving us a T2 for an arbitrary initial temperature, T"
   ]
  },
  {
   "cell_type": "code",
   "execution_count": 68,
   "metadata": {},
   "outputs": [],
   "source": [
    "# function that packages:\n",
    "    # compute_C\n",
    "    # ASR\n",
    "    # OLR\n",
    "    # step_forward\n",
    "    # for-looping\n",
    "    # and plotting\n",
    "    \n",
    "def yrs_to_eq(H, alpha=0.32, epsilon=0.57, initial_T=288):\n",
    "    '''\n",
    "    Params:\n",
    "        h = how deep heat penetrates into ocean\n",
    "        alpha = albedo\n",
    "        epsilon = emissivity\n",
    "        initial_T = earth's initial surface temperature (default = 288K)\n",
    "        \n",
    "    Returns:\n",
    "        temps = np.array of surface temp for each year. \n",
    "    '''\n",
    "\n",
    "    # define timestep - 1 year\n",
    "    dt = 60. * 60. * 24. * 365.   # one year expressed in seconds\n",
    "\n",
    "    # compute C for this value of H\n",
    "    C = compute_C(H)\n",
    "    print('The effective heat capacity is {:.1e} J/m2/K'.format(C))\n",
    "\n",
    "    numsteps = 250 # here are the number of timesteps (sim for 250 years)\n",
    "    temps = np.zeros(numsteps+1) # Empty vector to track temperatures (+1 is because we want to store the initial temperature)\n",
    "    years = np.zeros(numsteps+1) # Empty vector to track timesteps (years)\n",
    "    temps[0] = initial_T # editing the first element of the temp vector to be the initial temperature (288K)\n",
    "\n",
    "    # for each time step \"n\"\n",
    "    for t in range(numsteps): \n",
    "\n",
    "        # add the next value to the time step tracker (where in time is our algorithm?)\n",
    "        years[t+1] = t+1 \n",
    "        # use current Temp at time t, heat capacity, timestep, and the \"step_forward\" function to predict T at t+1\n",
    "        temps[t+1] = step_forward(temps[t], C)\n",
    "\n",
    "    # plot:\n",
    "    fig, ax = plt.subplots()\n",
    "\n",
    "    # plot temp data (x data = years, y data = temps)\n",
    "    ax.plot(years, temps)\n",
    "\n",
    "    ax.set(xlabel='Years', ylabel='Temp [K]', title='Time to equilibrium when heat penetrates {} m'.format(H))\n",
    "    \n",
    "    return temps"
   ]
  },
  {
   "cell_type": "code",
   "execution_count": 76,
   "metadata": {},
   "outputs": [
    {
     "name": "stdout",
     "output_type": "stream",
     "text": [
      "The effective heat capacity is 4.0e+08 J/m2/K\n",
      "32 years til equilibrium with H= 100 m\n"
     ]
    },
    {
     "data": {
      "image/png": "[encoded data removed]",
      "text/plain": [
       "<Figure size 432x288 with 1 Axes>"
      ]
     },
     "metadata": {
      "needs_background": "light"
     },
     "output_type": "display_data"
    }
   ],
   "source": [
    "## EXAMPLE/POSSIBLE ANSWER ##\n",
    "\n",
    "# a). h = 100 vs. h = 500\n",
    "\n",
    "# call fn with h=100\n",
    "h=100\n",
    "temps_h100 = yrs_to_eq(h)\n",
    "# temps_h100\n",
    "\n",
    "# compute number of years to reach equilibrium taking first difference...\n",
    "# np.diff(temps) < 0.0001 # first diff of temp below some acceptable threshold so we say ok, it'll be at equlibrium\n",
    "\n",
    "# THis is the number of years elapsed until diff(temps) < 0.0001\n",
    "# effectively 'years til equilibrium?'\n",
    "yrs_til_eq_h100 = np.argwhere(np.diff(temps_h100)<0.0001)[0].item()\n",
    "print('{} years til equilibrium with H= {} m'.format(yrs_til_eq_h100, h))"
   ]
  },
  {
   "cell_type": "code",
   "execution_count": 78,
   "metadata": {},
   "outputs": [
    {
     "name": "stdout",
     "output_type": "stream",
     "text": [
      "The effective heat capacity is 2.0e+09 J/m2/K\n",
      "143 years til equilibrium with H= 500 m\n"
     ]
    },
    {
     "data": {
      "image/png": "[encoded data removed]",
      "text/plain": [
       "<Figure size 432x288 with 1 Axes>"
      ]
     },
     "metadata": {
      "needs_background": "light"
     },
     "output_type": "display_data"
    }
   ],
   "source": [
    "# call fn with h=500\n",
    "h=500\n",
    "temps_h500 = yrs_to_eq(h)\n",
    "# temps_h500\n",
    "\n",
    "# compute number of years to reach equilibrium taking first difference...\n",
    "# np.diff(temps) < 0.0001 # first diff of temp below some acceptable threshold so we say ok, it'll be at equlibrium\n",
    "\n",
    "# THis is the number of years elapsed until diff(temps) < 0.0001\n",
    "# effectively 'years til equilibrium?'\n",
    "yrs_til_eq_h500 = np.argwhere(np.diff(temps_h500)<0.0001)[0].item()\n",
    "print('{} years til equilibrium with H= {} m'.format(yrs_til_eq_h500, h))"
   ]
  },
  {
   "cell_type": "markdown",
   "metadata": {},
   "source": [
    "---\n",
    "# Problem 4. Model Complexity: Definining an Albedo Feedback to our EBM\n",
    "---"
   ]
  },
  {
   "cell_type": "markdown",
   "metadata": {},
   "source": [
    "Recall from our bathtub that $FO$ was a function of $WL$, just like $\\text{OLR}$ is a function of $T$ (i.e, $\\sigma T^4$). \n",
    "\n",
    "Now we're going to make our model a bit more complex, introducing a new physical process into our model by **letting the planetary albedo depend on temperature**. \n",
    "\n",
    "The idea is that a warmer planet has less ice and snow at the surface, but perhaps a larger distribution of clouds, and so there are countervailing responses of planetary albedo. But in general, we think a warmer planet has a lower albedo.\n",
    "\n",
    "Represent the ice-albedo feedback through the following formula (hint, use [`if` and `elif` statements](https://docs.python.org/3/tutorial/controlflow.html)):\n",
    "\n",
    "$$ \\alpha(T) = \\left\\{ \\begin{array}{ccc}\n",
    "\\alpha_i &   & T \\le T_i \\\\\n",
    "\\alpha_o + (\\alpha_i-\\alpha_o) \\frac{(T-T_o)^2}{(T_i-T_o)^2} &   & T_i < T < T_o \\\\\n",
    "\\alpha_o &   & T \\ge T_o \\end{array} \\right\\}$$\n",
    "\n",
    "with the following parameter values:\n",
    "\n",
    "- $\\alpha_o = 0.289$ is the albedo of a warm, ice-free planet\n",
    "- $\\alpha_i = 0.7$ is the albedo of a very cold, completely ice-covered planet\n",
    "- $T_o = 293$ K is the threshold temperature above which our model assumes the planet is ice-free\n",
    "- $T_i = 260$ K is the threshold temperature below which our model assumes the planet is completely ice covered. \n",
    "\n",
    "For intermediate temperatures, this formula gives a smooth variation in albedo with global mean temperature. It is tuned to reproduce the observed albedo $\\alpha = 0.299$ for $T = 288$ K."
   ]
  },
  {
   "cell_type": "markdown",
   "metadata": {},
   "source": [
    "- Define a Python function that implements the above albedo formula. *There is definitely more than one way to do it. It doesn't matter how you do it as long as it works!*\n",
    "-  Use your function to calculate albedos for a wide range on planetary temperature (e.g. from $T=250$ K to $T=300$ K.)\n",
    "- Present your results (albedo as a function of global mean temperature, or $\\alpha(T)$) in a nicely labeled graph, like one from the practicals.\n",
    "- Reflect on what your results tell you about tipping points"
   ]
  },
  {
   "cell_type": "code",
   "execution_count": null,
   "metadata": {},
   "outputs": [],
   "source": [
    "## EXAMPLE/POSSIBLE ANSWER ## (see all belos)"
   ]
  },
  {
   "cell_type": "code",
   "execution_count": 1,
   "metadata": {},
   "outputs": [],
   "source": [
    "# if-satement version of albedo fn \n",
    "\n",
    "def ice_albedo(T):\n",
    "    '''\n",
    "    Represents Ice-Albedo Feedback Formula. \n",
    "    \n",
    "    Args: T = Planetary Temperature (float or int)\n",
    "    \n",
    "    Returns: a_T = Albedo at temp T (float)\n",
    "    '''\n",
    "    \n",
    "    # define parameter values\n",
    "    a0 = 0.289\n",
    "    ai = 0.7\n",
    "    T0 = 293\n",
    "    Ti = 260\n",
    "    \n",
    "    # the function\n",
    "    if T <= Ti:\n",
    "        a_T = ai\n",
    "    elif Ti < T < T0:\n",
    "        a_T = a0 + (ai - a0) * (((T-T0)**2)/((Ti-T0)**2))\n",
    "    elif T >= T0:\n",
    "        a_T = a0\n",
    "        \n",
    "    # return\n",
    "    return a_T"
   ]
  },
  {
   "cell_type": "code",
   "execution_count": 28,
   "metadata": {},
   "outputs": [],
   "source": [
    "# NUMPY VERSION \n",
    "def ice_albedo_2(T):\n",
    "    '''\n",
    "    Arg's: T = Planetary temperature (np.array)\n",
    "    \n",
    "    Returns: a_T = Planetary albedo (np.array)\n",
    "    '''\n",
    "    \n",
    "    # define parameter values\n",
    "    ao = 0.289\n",
    "    ai = 0.7\n",
    "    To = 293\n",
    "    Ti = 260\n",
    "    \n",
    "    # implement piecewise function over np array\n",
    "    alb1 = ao + (ai-ao)*((T-To)**2 / (Ti - To)**2)\n",
    "    alb2 = np.where(T>Ti, alb1, ai)\n",
    "    alb3 = np.where(T<To, alb2, ao)\n",
    "    \n",
    "    return alb3"
   ]
  },
  {
   "cell_type": "code",
   "execution_count": 5,
   "metadata": {},
   "outputs": [],
   "source": [
    "# make array of planetary temps:\n",
    "temp_in_arr = np.linspace(250, 300, 100) # array from 250-300, 100 steps. stepping in intervals of 0.5\n",
    "# temp_in_arr\n",
    "\n",
    "# empty array for albedos\n",
    "albedo_arr = np.zeros(shape=temp_in_arr.shape)"
   ]
  },
  {
   "cell_type": "code",
   "execution_count": 6,
   "metadata": {},
   "outputs": [],
   "source": [
    "# pass that to the albedo function\n",
    "for cntr, T in enumerate(temp_in_arr):\n",
    "\n",
    "    albedo_arr[cntr] = ice_albedo(T)"
   ]
  },
  {
   "cell_type": "code",
   "execution_count": null,
   "metadata": {},
   "outputs": [],
   "source": [
    "# 1. 3. Present your results (albedo as a function of global mean temperature, or $\\alpha(T)$) in a nicely labeled graph."
   ]
  },
  {
   "cell_type": "code",
   "execution_count": 8,
   "metadata": {},
   "outputs": [],
   "source": [
    "import matplotlib.pyplot as plt"
   ]
  },
  {
   "cell_type": "code",
   "execution_count": 11,
   "metadata": {},
   "outputs": [
    {
     "data": {
      "text/plain": [
       "[Text(0.5, 1.0, 'Representation of albedo feedback function'),\n",
       " Text(0, 0.5, 'Planetary albedo [frac]'),\n",
       " Text(0.5, 0, 'Planetary Temp [K]')]"
      ]
     },
     "execution_count": 11,
     "metadata": {},
     "output_type": "execute_result"
    },
    {
     "data": {
      "image/png": "[encoded data removed]",
      "text/plain": [
       "<Figure size 432x288 with 1 Axes>"
      ]
     },
     "metadata": {
      "needs_background": "light"
     },
     "output_type": "display_data"
    }
   ],
   "source": [
    "fig, ax = plt.subplots()\n",
    "\n",
    "ax.plot(temp_in_arr, albedo_arr)\n",
    "ax.set(title='Representation of albedo feedback function',\n",
    "       ylabel='Planetary albedo [frac]',\n",
    "       xlabel='Planetary Temp [K]')"
   ]
  },
  {
   "cell_type": "code",
   "execution_count": null,
   "metadata": {},
   "outputs": [],
   "source": []
  },
  {
   "cell_type": "markdown",
   "metadata": {},
   "source": [
    "---"
   ]
  },
  {
   "cell_type": "markdown",
   "metadata": {},
   "source": [
    "---"
   ]
  },
  {
   "cell_type": "code",
   "execution_count": null,
   "metadata": {},
   "outputs": [],
   "source": []
  },
  {
   "cell_type": "code",
   "execution_count": 17,
   "metadata": {},
   "outputs": [],
   "source": [
    "# function that packages:\n",
    "    # compute_C\n",
    "    # ASR\n",
    "    # OLR\n",
    "    # step_forward\n",
    "    # for-looping\n",
    "    # and plotting\n",
    "    \n",
    "def time_to_eq(H, alpha, epsilon, initial_T=288):\n",
    "    '''\n",
    "    Params:\n",
    "        h = how deep heat penetrates into ocean\n",
    "        alpha = albedo\n",
    "        epsilon = emissivity\n",
    "        initial_T = earth's initial surface temperature (default = 288K)\n",
    "        \n",
    "    Returns:\n",
    "        temps = np.array of surface temp for each year. \n",
    "    '''\n",
    "\n",
    "    # define timestep - 1 year\n",
    "    dt = 60. * 60. * 24. * 365.   # one year expressed in seconds\n",
    "    \n",
    "    # compute C for this value of H\n",
    "    C = compute_C(H)\n",
    "    print('The effective heat capacity is {:.1e} J/m2/K'.format(C))\n",
    "    \n",
    "    numsteps = 500 # here are the number of timesteps (sim for 500 years)\n",
    "    temps = np.zeros(numsteps+1) # Empty vector to track temperatures (+1 is because we want to store the initial temperature)\n",
    "    years = np.zeros(numsteps+1) # Empty vector to track timesteps (years)\n",
    "    temps[0] = initial_T # editing the first element of the temp vector to be the initial temperature (288K)\n",
    "\n",
    "    # for each time step \"n\"\n",
    "    for t in range(numsteps): \n",
    "\n",
    "        # add the next value to the time step tracker (where in time is our algorithm?)\n",
    "        years[t+1] = t+1 \n",
    "        # use current Temp at time t, heat capacity, timestep, and the \"step_forward\" function to predict T at t+1\n",
    "        temps[t+1] = step_forward(temps[t], C, dt, alpha, epsilon)\n",
    "\n",
    "    # plot:\n",
    "    fig, ax = plt.subplots()\n",
    "\n",
    "    # plot temp data (x data = years, y data = temps)\n",
    "    ax.plot(years, temps)\n",
    "\n",
    "    ax.set(xlabel='Years', ylabel='Temp [K]', title='Time to equilibrium when heat penetrates {} m'.format(H)) \n",
    "\n",
    "    return (temps)"
   ]
  },
  {
   "cell_type": "code",
   "execution_count": 13,
   "metadata": {},
   "outputs": [],
   "source": [
    "# after that, they have to call the function, use the plot, take first differences????"
   ]
  },
  {
   "cell_type": "code",
   "execution_count": null,
   "metadata": {},
   "outputs": [],
   "source": []
  },
  {
   "cell_type": "code",
   "execution_count": null,
   "metadata": {},
   "outputs": [],
   "source": []
  },
  {
   "cell_type": "code",
   "execution_count": 23,
   "metadata": {},
   "outputs": [
    {
     "name": "stdout",
     "output_type": "stream",
     "text": [
      "The effective heat capacity is 4.0e+08 J/m2/K\n"
     ]
    },
    {
     "data": {
      "image/png": "[encoded data removed]",
      "text/plain": [
       "<Figure size 432x288 with 1 Axes>"
      ]
     },
     "metadata": {
      "needs_background": "light"
     },
     "output_type": "display_data"
    }
   ],
   "source": [
    "## EXAMPLE/POSSIBLE ANSWER ##\n",
    "\n",
    "# a). h = 10 vs. h = 100\n",
    "\n",
    "# call the fn for h=10\n",
    "temps_h10 = time_to_eq(H=100, alpha=0.32, epsilon=0.57, initial_T=288)\n",
    "#temps_h10"
   ]
  },
  {
   "cell_type": "code",
   "execution_count": 19,
   "metadata": {},
   "outputs": [
    {
     "data": {
      "text/plain": [
       "1"
      ]
     },
     "execution_count": 19,
     "metadata": {},
     "output_type": "execute_result"
    }
   ],
   "source": [
    "# compute number of years to reach equilibrium taking first difference...\n",
    "# np.diff(temps) < 0.0001 # first diff of temp below some acceptable threshold so we say ok, it'll be at equlibrium\n",
    "\n",
    "# THis is the number of years elapsed until diff(temps) < 0.0001\n",
    "# effectively 'years til equilibrium?'\n",
    "yrs_til_eq_h10 = np.argwhere(np.diff(temps_h10)<0.0001)[0].item()\n",
    "yrs_til_eq_h10"
   ]
  },
  {
   "cell_type": "code",
   "execution_count": 20,
   "metadata": {},
   "outputs": [
    {
     "name": "stdout",
     "output_type": "stream",
     "text": [
      "The effective heat capacity is 4.0e+08 J/m2/K\n"
     ]
    },
    {
     "data": {
      "image/png": "[encoded data removed]",
      "text/plain": [
       "<Figure size 432x288 with 1 Axes>"
      ]
     },
     "metadata": {
      "needs_background": "light"
     },
     "output_type": "display_data"
    }
   ],
   "source": [
    "# call the fn for h = 100\n",
    "temps_h100 = time_to_eq(H=100, alpha=0.32, epsilon=0.57, initial_T=288)\n",
    "#temps_h100"
   ]
  },
  {
   "cell_type": "code",
   "execution_count": 93,
   "metadata": {},
   "outputs": [
    {
     "data": {
      "text/plain": [
       "32"
      ]
     },
     "execution_count": 93,
     "metadata": {},
     "output_type": "execute_result"
    }
   ],
   "source": [
    "# compute number of years to reach equilibrium taking first difference...\n",
    "# np.diff(temps) < 0.0001 # first diff of temp below some acceptable threshold so we say ok, it'll be at equlibrium\n",
    "\n",
    "# THis is the number of years elapsed until diff(temps) < 0.0001\n",
    "# effectively 'years til equilibrium?'\n",
    "yrs_til_eq_h100 = np.argwhere(np.diff(temps_h100)<0.0001)[0].item()\n",
    "yrs_til_eq_h100"
   ]
  },
  {
   "cell_type": "code",
   "execution_count": null,
   "metadata": {},
   "outputs": [],
   "source": [
    "temps_h100# ISSUE with this one: "
   ]
  },
  {
   "cell_type": "code",
   "execution_count": null,
   "metadata": {},
   "outputs": [],
   "source": []
  },
  {
   "cell_type": "code",
   "execution_count": null,
   "metadata": {},
   "outputs": [],
   "source": []
  },
  {
   "cell_type": "code",
   "execution_count": null,
   "metadata": {},
   "outputs": [],
   "source": []
  },
  {
   "cell_type": "code",
   "execution_count": 46,
   "metadata": {},
   "outputs": [],
   "source": [
    "# define timestep - 1 year\n",
    "dt = 60. * 60. * 24. * 365   # one year expressed in seconds"
   ]
  },
  {
   "cell_type": "code",
   "execution_count": 51,
   "metadata": {},
   "outputs": [],
   "source": [
    "alpha = 0.32\n",
    "epsilon = 0.57\n",
    "H = 100"
   ]
  },
  {
   "cell_type": "code",
   "execution_count": 52,
   "metadata": {},
   "outputs": [
    {
     "name": "stdout",
     "output_type": "stream",
     "text": [
      "The effective heat capacity is 4.0e+08 J/m2/K\n"
     ]
    },
    {
     "data": {
      "text/plain": [
       "[Text(0.5, 0, 'Years'),\n",
       " Text(0, 0.5, 'Temp [K]'),\n",
       " Text(0.5, 1.0, 'Time to equilibrium when heat penetrates 100 m')]"
      ]
     },
     "execution_count": 52,
     "metadata": {},
     "output_type": "execute_result"
    },
    {
     "data": {
      "image/png": "[encoded data removed]",
      "text/plain": [
       "<Figure size 432x288 with 1 Axes>"
      ]
     },
     "metadata": {
      "needs_background": "light"
     },
     "output_type": "display_data"
    }
   ],
   "source": [
    "# compute C for this value of H\n",
    "C = compute_C(H)\n",
    "print('The effective heat capacity is {:.1e} J/m2/K'.format(C))\n",
    "\n",
    "numsteps = 500 # here are the number of timesteps (sim for 500 years)\n",
    "temps = np.zeros(numsteps+1) # Empty vector to track temperatures (+1 is because we want to store the initial temperature)\n",
    "years = np.zeros(numsteps+1) # Empty vector to track timesteps (years)\n",
    "temps[0] = 288. # editing the first element of the temp vector to be the initial temperature (288K)\n",
    "\n",
    "# for each time step \"n\"\n",
    "for t in range(numsteps): \n",
    "\n",
    "    # add the next value to the time step tracker (where in time is our algorithm?)\n",
    "    years[t+1] = t+1 \n",
    "    # use current Temp at time t, heat capacity, timestep, and the \"step_forward\" function to predict T at t+1\n",
    "    temps[t+1] = step_forward(temps[t], C)\n",
    "\n",
    "# plot:\n",
    "fig, ax = plt.subplots()\n",
    "\n",
    "# plot temp data (x data = years, y data = temps)\n",
    "ax.plot(years, temps)\n",
    "\n",
    "ax.set(xlabel='Years', ylabel='Temp [K]', title='Time to equilibrium when heat penetrates {} m'.format(H))"
   ]
  },
  {
   "cell_type": "code",
   "execution_count": 53,
   "metadata": {},
   "outputs": [
    {
     "data": {
      "text/plain": [
       "32"
      ]
     },
     "execution_count": 53,
     "metadata": {},
     "output_type": "execute_result"
    }
   ],
   "source": [
    "# compute number of years to reach equilibrium taking first difference...\n",
    "# np.diff(temps) < 0.0001 # first diff of temp below some acceptable threshold so we say ok, it'll be at equlibrium\n",
    "\n",
    "# THis is the number of years elapsed until diff(temps) < 0.0001\n",
    "# effectively 'years til equilibrium?'\n",
    "yrs_til_eq_h100 = np.argwhere(np.diff(temps)<0.0001)[0].item()\n",
    "yrs_til_eq_h100"
   ]
  },
  {
   "cell_type": "code",
   "execution_count": null,
   "metadata": {},
   "outputs": [],
   "source": []
  },
  {
   "cell_type": "code",
   "execution_count": null,
   "metadata": {},
   "outputs": [],
   "source": []
  }
 ],
 "metadata": {
  "kernelspec": {
   "display_name": "Python mankin",
   "language": "python",
   "name": "mankin"
  },
  "language_info": {
   "codemirror_mode": {
    "name": "ipython",
    "version": 3
   },
   "file_extension": ".py",
   "mimetype": "text/x-python",
   "name": "python",
   "nbconvert_exporter": "python",
   "pygments_lexer": "ipython3",
   "version": "3.9.7"
  }
 },
 "nbformat": 4,
 "nbformat_minor": 2
}
