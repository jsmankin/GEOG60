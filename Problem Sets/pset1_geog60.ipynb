{
 "cells": [
  {
   "cell_type": "markdown",
   "metadata": {},
   "source": [
    "# **GEOG 60.01** ***Problem Set #1***"
   ]
  },
  {
   "cell_type": "markdown",
   "metadata": {},
   "source": [
    "### Instructions\n",
    "\n",
    "- **Save a copy of this PS to your jhub directory**, naming the file as follows:\n",
    "`lastname_firstname_pset1_geog60.ipynb`\n",
    "\n",
    "- **Complete the problems below by typing answers in additional cells you have created**. Save often.\n",
    "\n",
    "- Some assignments have **optional bonus problems**. These are meant to be interesting and thought-provoking, but are not required. Extra credit will be given for interesting answers to the bonus problems.\n",
    "\n",
    "- Remember to set your cell types to `Markdown` for text, and `Code` for Python code!\n",
    "\n",
    "- **Include comments** in any code to explain your method as necessary. We want to give you points, not take them away.\n",
    "\n",
    "- Remember to actually answer the questions. **Typed responses to questions in cells you create are required** (not just code and figures!)\n",
    "\n",
    "- You can work on the problem set in groups, with two caveats: (1) **everyone must turn in their own copy in their own words**; (2) **you must list the names of your collaborators in a cell at the end of the problem set**\n",
    "\n",
    "- Your solutions should all be in this **single Jupyter notebook** that contains your text, your code, and your figures.\n",
    "\n",
    "- **To submit this PS once you're done, do the following:**\n",
    "    1. *Make sure that your notebook* ***runs cleanly without errors:***\n",
    "        - Save your notebook\n",
    "        - From the `Kernel` menu, select `Restart & Run All`\n",
    "        - Did the notebook run from start to finish without error and produce the expected output?\n",
    "        - If yes, save again and proceed to the next step\n",
    "        - If no, fix the errors and try again\n",
    "    2. Download your saved PS to your computer with all your answers and figures, `code` and `Markdown` rendered. \n",
    "    3. Turn in your PS by uploading it to Canvas under the PS#1 assigment."
   ]
  },
  {
   "cell_type": "markdown",
   "metadata": {},
   "source": [
    "### Learning goals\n",
    "This problem set is intended to apply and extend concepts from class, whether around modeling practices and pitfalls generally, or Earth System Modeling specifically.\n",
    "\n",
    "Students completing this assignment will gain the following skills and concepts:\n",
    "\n",
    "- More familiarity with the Jupyter notebook\n",
    "- More familiarity with formalizing models\n",
    "- More familiarity with our zero-dimensional Energy Balance Model\n",
    "- An understanding of model practices like sensitivity analysis and calibration\n",
    "- More familiarity with dynamic systems and the factors determining their time dependence\n",
    "- Increasing model complexity with feedbacks\n",
    "- Use of numerical timestepping to find the equilibrium temperature\n",
    "- Programming skills: arrays, loops, and simple graphs"
   ]
  },
  {
   "cell_type": "markdown",
   "metadata": {},
   "source": [
    "---\n",
    "# Problem 1. Sensitivity Analysis with our EBM\n",
    "---"
   ]
  },
  {
   "cell_type": "markdown",
   "metadata": {},
   "source": [
    "After calibrating parameter values, modelers often pursue a [\"sensitivity analysis\", (SA)](http://www.andreasaltelli.eu/file/repository/Risk_Analysis_2002.PDF), an activity where we assess the uncertainty in our model to (usually) parametric assumptions. [Perturbed physics ensembles](https://archive.ipcc.ch/publications_and_data/ar4/wg1/en/ch10s10-5-4-2.html) with Earth System Models (ESMs) are a common form of SA in climate science. \n",
    "\n",
    "Let's do a rudimentary SA with our EBM from class. \n",
    "\n",
    "At present, the emission temperature, $T_e$, of the Earth at TOA is 255K; Earth's albedo is ~30%.\n",
    "\n",
    "How would emission temperature, $T_e$ change if:\n",
    "- The albedo was reduced to 10% (and all else were held fixed)?\n",
    "- The infrared absorptivity of the atmosphere (epsilon) was doubled, but albedo remained fixed at 30%"
   ]
  },
  {
   "cell_type": "markdown",
   "metadata": {},
   "source": [
    "---\n",
    "# Problem 2. Model Formalization & the Flat Earther's EBM\n",
    "---"
   ]
  },
  {
   "cell_type": "markdown",
   "metadata": {},
   "source": [
    "[Flat Earther's](https://www.newyorker.com/science/elements/looking-for-life-on-a-flat-earth) are tragic modelers, violating [George Box's](https://en.wikipedia.org/wiki/George_E._P._Box) cardinal rule, that one [\"must not be like Pygmalion, and fall in love with [one’s] model”](https://www-tandfonline-com.dartmouth.idm.oclc.org/doi/abs/10.1080/01621459.1976.10480949).\n",
    "\n",
    "Certainly, a flat Earth EBM would be all wrong given what we observe. To prove them wrong with science, let's get some more practice one of the more challenging steps in the modeling process, that from conceptualization to formalization--from a diagramatic to mathematical model.\n",
    "\n",
    "Let's consider Earth, for the sake of argument, to be a thin circular disk (of radius 6370 km), orbiting the Sun at the same distance as the Earth; the planetary albedo is 30%. \n",
    "\n",
    "The face of this disk always points directly towards the Sun, and the disk is made of perfectly conducting material, so both faces of the disk are the same tempreature. \n",
    "\n",
    "Caluclate the emission (TOA) temperature, $T_e$, of this disk, and compare with our EBM emission temperature, $T_e$, for a spherical Earth.\n",
    "\n",
    "What does simple physics of the TOA emission temperature tell us about the Flat Earther theory? (Write an answer.)"
   ]
  },
  {
   "cell_type": "markdown",
   "metadata": {},
   "source": [
    "---\n",
    "# Problem 3. Ocean's Heat Capacity and the Time Dependence of Dynamic Systems\n",
    "---"
   ]
  },
  {
   "cell_type": "markdown",
   "metadata": {},
   "source": [
    "Dynamic systems are, by definition, systems that we assess as a function of time. \n",
    "\n",
    "The time it takes for a system to reach equilibrium or respond to a perturbation matters (e.g., consider the [\"velocity\" of climate change](https://www.nature.com/articles/nature08649). \n",
    "\n",
    "Returning to our dynamic EBM, we now suppose that:\n",
    "\n",
    "$$ E = C T_s $$\n",
    "\n",
    "where $E$ is the total in **[enthalpy](https://en.wikipedia.org/wiki/Enthalpy)** or **heat content** of the Earth; $T_s$ is the **global mean surface (not emission) temperature**, and $C$ is a parameter representing the **effective heat capacity** of the atmosphere-ocean column; it represents the size of our reservoir for heat, and it helps convert units of energy into units of temperature.\n",
    "then our budget equation becomes:"
   ]
  },
  {
   "cell_type": "markdown",
   "metadata": {},
   "source": [
    "\n",
    "$$ C \\frac{dT_s}{dt} = \\text{ASR} - \\text{OLR} $$"
   ]
  },
  {
   "cell_type": "markdown",
   "metadata": {},
   "source": [
    "where\n",
    "\n",
    "- $C$ is the **heat capacity** of Earth system, in units of J m$^{-2}$ K$^{-1}$.\n",
    "- $\\frac{dT_s}{dt}$ is the rate of change of global average surface temperature."
   ]
  },
  {
   "cell_type": "markdown",
   "metadata": {
    "slideshow": {
     "slide_type": "slide"
    }
   },
   "source": [
    "By adopting this equation, we are assuming that the energy content of the Earth system (atmosphere, ocean, ice, etc.) is *proportional to surface temperature*.\n",
    "\n",
    "The ocean is incredibly important here. The [specific heat of water](https://en.wikipedia.org/wiki/Specific_heat_capacity) is very large, meaning it takes a tremendous amount of energy to change water's temperature by one degree. This feature of water, and the fact that ~70% of the Earth is water means that the oceans buffer (i.e., absorb) much of the excess energy from global warming. "
   ]
  },
  {
   "cell_type": "markdown",
   "metadata": {
    "slideshow": {
     "slide_type": "slide"
    }
   },
   "source": [
    "To start, we are going to use a value of C equivalent to heating 100 meters of water:\n",
    "\n",
    "$$C = c_w \\rho_w H$$\n",
    "\n",
    "where \n",
    "\n",
    "$c_w = 4 \\times 10^3$ J kg$^{-1}$ $^\\circ$K$^{-1}$ is the specific heat of water, \n",
    "\n",
    "$\\rho_w = 10^3$ kg m$^{-3}$ is the density of water, and\n",
    "\n",
    "$H$ is an effective depth of water that is heated or cooled - **this is the lever we're going to pull on**"
   ]
  },
  {
   "cell_type": "code",
   "execution_count": 2,
   "metadata": {},
   "outputs": [],
   "source": [
    "# Here we've set the parameters for you.\n",
    "c_w = 4E3  #  Specific heat of water in J/kg/K\n",
    "rho_w = 1E3  #  Density of water in kg/m3"
   ]
  },
  {
   "cell_type": "markdown",
   "metadata": {},
   "source": [
    "In Friday's practical, we defined a time dependent EBM for the global mean surface temperature $T_s$ as follows\n",
    "\n",
    "$$ C  \\frac{dT_s}{dt} = \\text{ASR} - \\text{OLR}$$"
   ]
  },
  {
   "cell_type": "markdown",
   "metadata": {},
   "source": [
    "Refer back to our class practicals for the implementation of our time dependent EBM and the relevant parameter values.\n",
    "\n",
    "1. If the heat penetrated to twice as deep into the ocean, the value of $C$ would be twice as large. Would this affect the **equilibrium temperature**, $T_eq$? Why or why not?\n",
    "2. Define a simple function to caculated $C$, based on its equation above.\n",
    "3. Use this function to perform a simple sensitivity analysis to calculate how long it takes for our time-dependent EBM to reach its equilibrium temperature, $T_eq$, for two ocean depths:\n",
    "    - 100 m\n",
    "    - 500 m\n",
    "        - NOTE: You can read these equilibrium times off of an array, a plot, or define a function to make this calculation of time to equilibrium.\n",
    "4. Reflect on these results -- what do your results show about the role of heat capacity on climate change and or its timescales? **Give a short written answer.**"
   ]
  },
  {
   "cell_type": "code",
   "execution_count": 5,
   "metadata": {},
   "outputs": [],
   "source": [
    "# import numpy -- you might need these. Refer to the tutorials as needed!\n",
    "import numpy as np\n",
    "import matplotlib.pyplot as plt"
   ]
  },
  {
   "cell_type": "markdown",
   "metadata": {},
   "source": [
    "---\n",
    "# Problem 4. Model Complexity: Definining an Albedo Feedback to our EBM\n",
    "---"
   ]
  },
  {
   "cell_type": "markdown",
   "metadata": {},
   "source": [
    "Recall from our bathtub that $FO$ was a function of $WL$, just like $\\text{OLR}$ is a function of $T$ (i.e, $\\sigma T^4$). \n",
    "\n",
    "Now we're going to make our model a bit more complex, introducing a new physical process into our model by **letting the planetary albedo depend on temperature**. \n",
    "\n",
    "The idea is that a warmer planet has less ice and snow at the surface, but perhaps a larger distribution of clouds, and so there are countervailing responses of planetary albedo. But in general, we think a warmer planet has a lower albedo.\n",
    "\n",
    "Represent the ice-albedo feedback through the following formula (hint, use [`if` and `elif` statements](https://docs.python.org/3/tutorial/controlflow.html)):\n",
    "\n",
    "$$ \\alpha(T) = \\left\\{ \\begin{array}{ccc}\n",
    "\\alpha_i &   & T \\le T_i \\\\\n",
    "\\alpha_o + (\\alpha_i-\\alpha_o) \\frac{(T-T_o)^2}{(T_i-T_o)^2} &   & T_i < T < T_o \\\\\n",
    "\\alpha_o &   & T \\ge T_o \\end{array} \\right\\}$$\n",
    "\n",
    "with the following parameter values:\n",
    "\n",
    "- $\\alpha_o = 0.289$ is the albedo of a warm, ice-free planet\n",
    "- $\\alpha_i = 0.7$ is the albedo of a very cold, completely ice-covered planet\n",
    "- $T_o = 293$ K is the threshold temperature above which our model assumes the planet is ice-free\n",
    "- $T_i = 260$ K is the threshold temperature below which our model assumes the planet is completely ice covered. \n",
    "\n",
    "For intermediate temperatures, this formula gives a smooth variation in albedo with global mean temperature. It is tuned to reproduce the observed albedo $\\alpha = 0.299$ for $T = 288$ K."
   ]
  },
  {
   "cell_type": "markdown",
   "metadata": {},
   "source": [
    "- Define a Python function that implements the above albedo formula. *There is definitely more than one way to do it. It doesn't matter how you do it as long as it works!*\n",
    "-  Use your function to calculate albedos for a range of planetary temperatures (e.g., from $T=250$ K to $T=300$ K.)\n",
    "- Present your results (albedo as a function of global mean temperature, or $\\alpha(T)$) in a nicely labeled graph, like one from the practicals.\n",
    "- Reflect on what your results tell you about tipping points (think back to your Lenton et al. reading)."
   ]
  },
  {
   "cell_type": "markdown",
   "metadata": {},
   "source": [
    "### CONGRATS! You're done. \n",
    "Document here who you worked with and about how long you spent on this. Thanks!"
   ]
  }
 ],
 "metadata": {
  "kernelspec": {
   "display_name": "Python mankin",
   "language": "python",
   "name": "mankin"
  },
  "language_info": {
   "codemirror_mode": {
    "name": "ipython",
    "version": 3
   },
   "file_extension": ".py",
   "mimetype": "text/x-python",
   "name": "python",
   "nbconvert_exporter": "python",
   "pygments_lexer": "ipython3",
   "version": "3.9.7"
  }
 },
 "nbformat": 4,
 "nbformat_minor": 2
}
