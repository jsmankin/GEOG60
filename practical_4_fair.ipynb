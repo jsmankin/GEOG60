{
 "cells": [
  {
   "cell_type": "markdown",
   "metadata": {},
   "source": [
    "# **GEOG 60.01** ***Practical 4: Experimental Design and FaIR***\n",
    "\n",
    "   <center><img src=https://docs.fairmodel.net/en/latest/_images/outline.png width=\"600\"></center>\n",
    "\n",
    "From: FaIR Model"
   ]
  },
  {
   "cell_type": "markdown",
   "metadata": {},
   "source": [
    "## 0. Recap:\n",
    "\n",
    "Where are we? Let's put together the pieces:\n",
    "\n",
    "0. We've thought about the Earth as a **system** wanting to acheive balance or **equilibrium**, just like a bathtub, through a **negative feedback**:\n",
    "\n",
    "$$\\text{IN} = \\text{OUT}$$\n",
    "\n",
    "1. We've learned that the Earth acheives this balance by absorbing shortwave light from the sun and radiating longwave infrared light to space based on its temperature, all consistent with **Stefan-Boltzmann** and $\\sigma T^4$ — a negative feedback, called the **Planck Feedback**. \n",
    "\n",
    "2. We learned that this equilibrium is actually aided by **convection**, a **choatic processes** (i.e., a sensitive dependence on **initial conditions**) that arises because of the differential heating of our planet and because of the vertical structure of our atmosphere. This is part of a wider process called **radiative-convective equilibrium**, which itself is shaped by feedbacks, such as the negative **lapse rate** feedback. So we learned a bit of atmospheric dynamics: differential heating induces differential densities inducing differential pressures, which gets air moving, as high pressure wants to equilibriate with low pressure.\n",
    "\n",
    "3. We learned that simulating a system is hard because we can't do calculus on a computer (so errors are baked in), and in particular, simulating processes like convection is hard, first because is we don't have perfect measurements everywhere at every instant, and because computers have finite memory, and because the length scales and temporal scales of convection are small, making it incredibly computationally expensive to simulate (halving our spatial resolution ($\\Delta X$) forces us to halve our timestep ($\\Delta t$), making the cost $2^4=16$ more expensive.\n",
    "\n",
    "4. We learned that climate models deal with this by **parameterizing** processes that occur on spatiotemporal scales smaller than a **grid box**, or a unit volume in a climate model that closes the **energy, mass, and momentum budgets**. These **unresolved** parameterizations, like our runoff module, influence the **resolved** processes in climate models, so the fine-scale influences the large-scale. There are a host of feedbacks within Earth's climate system, and the goal of the models is to get all of these processes and feedbacks represented to make predictions conditioned on a set of assumptions (or what we call a **projection**), such as what happens if we increase $\\text{CO}_2$ at a rate of 1% per year. \n",
    "\n",
    "5. We've read that there are lots of [**IPCC**](https://www.ipcc.ch/) models out there, built by national labs around the world, all coordinating with each other to perfrom the same set of experiments, under the aegis of a program called the **Coupled Model Intercomparison Project**, which allows us to compare all the answers from different models given the same experiment. \n",
    "\n",
    "6. We've read that there are modeling best practices for evaluating the performance of these models and experiments, in particular, their representation of these key feedbacks, which ultimately determine what the temperature response of the planet is.\n",
    "\n",
    "Now that we're caught up...\n"
   ]
  },
  {
   "cell_type": "markdown",
   "metadata": {},
   "source": [
    "---\n",
    "## 1. Goals of this practical\n",
    "\n",
    "1. Learn about **climate sensitivity**\n",
    "\n",
    "2. Learn to run a simple climate model, called FaIR\n",
    "\n",
    "3. Apply some Xarray and plotting techniques\n",
    "---"
   ]
  },
  {
   "cell_type": "markdown",
   "metadata": {},
   "source": [
    "## 2. Climate Sensitivity\n",
    "\n",
    "So we've got all these climate models, simulating the conservation of energy, mass, and momentum, all running the same coordinated experiments. How best to compare them?\n",
    "\n",
    "One of the first things climate scientists want to compare among models is a **diagnostic** called [**Climate Sensitivity**](https://climate.mit.edu/explainers/climate-sensitivity).\n",
    "\n",
    "The power of climate sensitivity is that it can be estimated from multiple sources -- observations, paleoclimate data, climate models, etc.\n",
    "\n",
    "In particular, we're interested in two measures of climate senstivity:\n",
    "\n",
    "- Equilibrium Climate Sensitivity, or ECS, defined as the equilibrium temperature response to a doubling of $\\text{CO}_2$\n",
    "\n",
    "and \n",
    "\n",
    "- Transient Climate Response, or TCR, defined as the mean global warming predicted to occur around the time of doubling $\\text{CO}_2$\n",
    "\n",
    "This idea of a doubling of $\\text{CO}_2$ emerges because of the [band saturation effect](http://forecast.uchicago.edu/chapter4.pdf), which you may (or more may not) recall from your Archer reading. A brief explanation on why the band saturation and ECS are related. To the whiteboard!"
   ]
  },
  {
   "cell_type": "markdown",
   "metadata": {},
   "source": [
    "<center><img src=https://skepticalscience.com/graphics/Climate_Sensitivity_500.jpg width=\"600\"> \n",
    "<div>\n",
    "   From: Skeptical Science"
   ]
  },
  {
   "cell_type": "markdown",
   "metadata": {},
   "source": [
    "We'll formalize some more concepts, below.\n",
    "\n",
    "But first, let's look at our tool, the **Finite Amplitude Impluse Response (FaIR) Model**:"
   ]
  },
  {
   "cell_type": "markdown",
   "metadata": {},
   "source": [
    "---\n",
    "## 3. A Climate Emulator \n",
    "...let's consider a simple climate model. We need simple climate models because full complexity **Earth System Models (ESMs)** that are used in climate change projections such as those used by the IPCC are expensive to run. \n",
    "\n",
    "[FaIR, or the Finite Amplitude Impluse-Response Model](https://docs.fairmodel.net/en/latest/intro.html), is designed to emulate or mimic the behavior of more complex ESMs. The input parameters to FaIR can then be varied to assess the responses in the full range of uncertainty due to the carbon cycle, radiative forcing, and temperature response.\n",
    "\n",
    "FaIR essentially does two things: (1) it converts emissions of greenhouse gases to a concentration and radiative forcing time series and (2) it takes that time series and translates it a global temperature change time series.\n",
    "\n",
    "---"
   ]
  },
  {
   "cell_type": "code",
   "execution_count": null,
   "metadata": {},
   "outputs": [],
   "source": [
    "# import python modules\n",
    "import os\n",
    "import xarray as xr\n",
    "import numpy as np\n",
    "\n",
    "import matplotlib.pyplot as plt\n",
    "from matplotlib import rcParams\n",
    "import matplotlib.colors as colors"
   ]
  },
  {
   "cell_type": "code",
   "execution_count": null,
   "metadata": {},
   "outputs": [],
   "source": [
    "# import FaIR version 2.1.0\n",
    "#https://docs.fairmodel.net/en/latest/intro.html\n",
    "\n",
    "import fair\n",
    "from fair import FAIR\n",
    "from fair.io import read_properties\n",
    "from fair.interface import fill, initialise"
   ]
  },
  {
   "cell_type": "code",
   "execution_count": null,
   "metadata": {},
   "outputs": [],
   "source": [
    "# create FaIR instance\n",
    "f = FAIR()"
   ]
  },
  {
   "cell_type": "markdown",
   "metadata": {},
   "source": [
    "This `FAIR()` function creates an \"instance\" of the FaIR model in python, we've saved it in an object called \"f\" above. We can then use the object's built-in methods to define the terms of the simulation.\n",
    "\n",
    "The vast majority of this simulation will be set up for you already, but let's try defining the timestep and time horizon of the experiment.\n",
    "\n",
    "Let's use the `define_time()` function below. The function takes 3 arguments in order: beginning time, end time, and length of timestep (all units are years). For example, the code `f.define_time(0,50,0.5)` would run a simulation for 50 years, at 0.5-year timesteps.\n",
    "\n",
    "**Try it below!** (Hint: pick a number of years that you think will be long enough for the climate system to reach equilibrium. You can re-run the below cells as many times as you need!)"
   ]
  },
  {
   "cell_type": "code",
   "execution_count": null,
   "metadata": {},
   "outputs": [],
   "source": []
  },
  {
   "cell_type": "markdown",
   "metadata": {},
   "source": [
    "You can check the times you generated by printing `f.timebounds` in a new cell if necessary. "
   ]
  },
  {
   "cell_type": "markdown",
   "metadata": {},
   "source": [
    "---\n",
    "## 4. Equilibrium Climate Sensitivity\n",
    "---\n",
    "\n",
    "We're going to use FaIR to estimate ECS."
   ]
  },
  {
   "cell_type": "markdown",
   "metadata": {},
   "source": [
    "> The equilibrium climate sensitivity (ECS) is the long-term equilibrium global mean surface temperature response to a doubling of pre-industrial atmospheric $\\text{CO}_2$ concentrations with all other forcers fixed at pre-industrial. It is a measure of long-term sensitivity of climate.\n",
    "\n",
    "<center><img src=https://andthentheresphysics.files.wordpress.com/2017/09/knutti_etal.jpg width=\"600\"></center>\n",
    "<div>\n",
    "Adapted from Knutti et al. 2017\n"
   ]
  },
  {
   "cell_type": "markdown",
   "metadata": {},
   "source": [
    "ECS, and all climate scenarios rely on a concept called **radiative forcing**, which is defined as the change in the energy balance of Earth due to some factor that \"forced\" the change, hence the term \"forcing\".\n",
    "\n",
    "Formally, we define the imbalance in the top of the atmosphere energy budget as in $\\text{W m}^{-2}$:\n",
    "\n",
    "$$ \\Delta N = \\Delta (\\text{IN} - \\text{OUT}) = \\Delta \\text{IN} - \\Delta \\text{OUT}$$\n",
    "\n",
    "We can say that this imbalance is due to some perturbation to our system, aka a forcing, $\\Delta F$, and then how that warming from that forcing and temperature-dependent feedbacks, like the ice-albedo feedback, or the water vapor feedback, or the lapse rate feedback, etc. shapes the energy emission back to space. There are a lot of feedbacks, and you may recall from systems theory, they can be positive (amplifiers) or negative (dampeners) of the perturbation.\n",
    "\n",
    "We call the sum of all the feedbacks, $\\lambda$, or the **climate feedback parameter**, which is just a number, it's a way to parameterize all the effects of all of those feedbacks. It's in units of $\\text{W m}^{-2}\\text{K}^{-1}$\n",
    "\n",
    "Formally, we write all this as:\n",
    "\n",
    "$$ \\Delta N = \\Delta F + \\lambda\\Delta T$$\n",
    "\n",
    "So the above equation says we have a net imbalance (i.e., $\\text{IN}\\neq \\text{OUT}$), which can be estimated as the the forcing, plus any warming dependent feedbacks in the climate system. \n",
    "\n",
    "At equilibrium, $\\Delta N = 0$, because $\\text{IN}=\\text{OUT}$ again.\n",
    "\n",
    "Therefore we can write this as:\n",
    "\n",
    "$$\\Delta T = \\frac{-\\Delta F}{\\lambda}$$\n",
    "\n",
    "Essentially, if I apply a forcing of $\\Delta F$, then temperature increases by $\\frac{F}{\\lambda}$.\n",
    "\n",
    "Because of this, ECS is defined as:"
   ]
  },
  {
   "cell_type": "markdown",
   "metadata": {},
   "source": [
    "$$\\text{ECS} = \\Delta T_{2x} = \\frac{-\\Delta F_{2x}}{\\lambda}$$"
   ]
  },
  {
   "cell_type": "markdown",
   "metadata": {},
   "source": [
    "OK, let's run an ECS experiment using a 2xCO2 scenario in FaIR, where we instantaneously double the atmospheric concentration of $\\text{CO}_2$."
   ]
  },
  {
   "cell_type": "markdown",
   "metadata": {},
   "source": [
    "The cell below will set up and run the rest of the simulation. You are not responsible for knowing everything, but we've included comments in case you are interested in seeing how the model works and potentially using it for a final project.\n",
    "\n",
    "**TRY IT:** Run the cell after that to see a plot of temperature versus time, and adjust your time horizons accordingly if you don't think the sim reached equilibrium. This is essentially our most complex version of the bathtub model to-date!"
   ]
  },
  {
   "cell_type": "code",
   "execution_count": null,
   "metadata": {},
   "outputs": [],
   "source": [
    "# Define scenarios (only one in this case)\n",
    "f.define_scenarios(['abrupt-2xCO2'])\n",
    "\n",
    "# Define configs (only doing one, default for now)\n",
    "f.define_configs(['default'])\n",
    "\n",
    "# Define species (and properties)\n",
    "\n",
    "# in this case, only care about CO2 concentrations but model wants us to define nitrous oxide (N2O) and methane (CH4) as well\n",
    "species = ['CO2', 'N2O', 'CH4']\n",
    "\n",
    "# note that we set input_mode as concentration this time\n",
    "properties = {\n",
    "    'CO2': {\n",
    "        'type': 'co2',\n",
    "        'input_mode': 'concentration',\n",
    "        'greenhouse_gas': True,\n",
    "        'aerosol_chemistry_from_emissions': False,\n",
    "        'aerosol_chemistry_from_concentration': False,\n",
    "    },\n",
    "    'CH4': {\n",
    "      'type': 'ch4',\n",
    "      'input_mode': 'concentration',\n",
    "      'greenhouse_gas': False, # note here\n",
    "      'aerosol_chemistry_from_emissions': False,\n",
    "      'aerosol_chemistry_from_concentration': True # we treat methane as a reactive gas (?)\n",
    "    },\n",
    "     'N2O': {\n",
    "          'type': 'n2o',\n",
    "          'input_mode': 'concentration',\n",
    "          'greenhouse_gas': False, # note here (!!!)\n",
    "          'aerosol_chemistry_from_emissions': False,\n",
    "          'aerosol_chemistry_from_concentration': True # we treat nitrous oxide as a reactive gas (?)\n",
    "     },\n",
    "}\n",
    "\n",
    "\n",
    "f.define_species(species, properties)\n",
    "\n",
    "# create input and output data\n",
    "f.allocate()\n",
    "\n",
    "# fill in all data (initial conditions, configs, etc)\n",
    "\n",
    "# this is filling 'concentration' from 'CO2' for our 'abrupt-2xCO2' scenario\n",
    "# to ALWAYS equal 556.6 parts per million (which is double the measured pre-industrial levels of 278.3)\n",
    "fill(f.concentration, 556.6, scenario='abrupt-2xCO2', specie='CO2') \n",
    "\n",
    "# Set CH4 and N20 to stay at their preindustrial levels\n",
    "fill(f.concentration, 722e-3, scenario='abrupt-2xCO2', specie='CH4') # source: 722 ppb via wikipedia\n",
    "fill(f.concentration, 275e-3, scenario='abrupt-2xCO2', specie='N2O') # source: Xu, et al. 2016 (https://cp.copernicus.org/articles/13/977/2017/cp-13-977-2017.pdf)\n",
    "\n",
    "# Define first timestep\n",
    "initialise(f.concentration, 278.3, specie='CO2')\n",
    "initialise(f.concentration, 722e-3, specie='CH4')\n",
    "initialise(f.concentration, 275e-3, specie='N2O')\n",
    "initialise(f.forcing, 0)\n",
    "initialise(f.temperature, 0)\n",
    "initialise(f.cumulative_emissions, 0)\n",
    "\n",
    "# fill all species configs as defaults\n",
    "f.fill_species_configs()\n",
    "\n",
    "# Fill climate configs -- these taken from the CENTRAL FaIR example configs (any built-in defaults?)\n",
    "fill(f.climate_configs[\"ocean_heat_transfer\"], [1.1, 1.6, 0.9])\n",
    "fill(f.climate_configs[\"ocean_heat_capacity\"], [8, 14, 100])\n",
    "fill(f.climate_configs[\"deep_ocean_efficacy\"], 1.1)\n",
    "\n",
    "# finally, run FaIR\n",
    "f.run(progress=False)"
   ]
  },
  {
   "cell_type": "code",
   "execution_count": null,
   "metadata": {},
   "outputs": [],
   "source": [
    "# plot Global Mean Surface Temperature (GMST) time series\n",
    "fig, ax = plt.subplots()\n",
    "\n",
    "# plot surface (level 0) temp data for our 2xCO2 default run\n",
    "ax.plot(f.timebounds, f.temperature.sel(scenario='abrupt-2xCO2', layer=0, config='default')) \n",
    "# note how f.temperature is an xr.DataArray, so we are selecting the appropriate dims above to plot.\n",
    "\n",
    "ax.set(xlabel='YEAR', ylabel='TEMP. ANOMALY [K]', title='ECS SCENARIO ON FaIR DEFAULT')"
   ]
  },
  {
   "cell_type": "markdown",
   "metadata": {},
   "source": [
    "**TRY IT:** You have now done a *graphical* solution of time until equilibrium, but can you write code below to compute the timestep at which the system reaches equilibrium? \n",
    "\n",
    "Let's assume equilibrium means a year-on-year change of less than 0.0001 Degrees Kelvin.\n",
    "\n",
    "*Hint: Use the `times` and `temps` arrays defined for you to find the timestep where $(T_{time=i} - T_{time=i-1}) < 0.0001$*"
   ]
  },
  {
   "cell_type": "code",
   "execution_count": null,
   "metadata": {},
   "outputs": [],
   "source": [
    "# 'times' and 'temps' arrays are defined for your convenience\n",
    "times = f.timebounds\n",
    "temps = f.temperature.sel(scenario='abrupt-2xCO2', layer=0, config='default')"
   ]
  },
  {
   "cell_type": "code",
   "execution_count": null,
   "metadata": {},
   "outputs": [],
   "source": []
  },
  {
   "cell_type": "markdown",
   "metadata": {},
   "source": [
    "**QUESTION:**\n",
    "\n",
    "Based on your answer for time to equilibrium plus your knowledge of the computational costs of running Earth System Models like the ones in CMIP6, how do you think that we can get a sense of these models' ECS? "
   ]
  },
  {
   "cell_type": "markdown",
   "metadata": {},
   "source": []
  },
  {
   "cell_type": "markdown",
   "metadata": {},
   "source": [
    "**QUESTION:**\n",
    "\n",
    "Based on the graph you generated above and the figure below, where does this instance of FaIR fall compared to the state-of-the-art CMIP6 Models with regard to ECS?"
   ]
  },
  {
   "cell_type": "markdown",
   "metadata": {},
   "source": [
    "<center><img src=https://www.science.org/cms/10.1126/sciadv.aba1981/asset/a5916f25-f221-486d-9567-4f23d9d47dcb/assets/graphic/aba1981-f1.jpeg width=\"600\"></center>\n",
    "<div> From: Meehl, et al. (2020)"
   ]
  },
  {
   "cell_type": "markdown",
   "metadata": {},
   "source": []
  },
  {
   "cell_type": "markdown",
   "metadata": {},
   "source": [
    "---\n",
    "# 5. ECS Uncertainty from the Ocean\n",
    "---"
   ]
  },
  {
   "cell_type": "markdown",
   "metadata": {},
   "source": [
    "You may have noticed that in the code above we are running FaIR with 'default' parameters for things like `specie` (greenhouse gases species that impact the radiative balance of the planet) and climate configurations (things like how the ocean transfers and stores heat, which has a big impact on ECS and how long it takes to reach equilibrium as we learned in PS#1).\n",
    "\n",
    "*There are tons more options for FaIR, but we won't be dealing with them today. However, there could be some cool final projects using FaIR with various configurations, or what FaIR calls* [configs](https://docs.fairmodel.net/en/latest/intro.html#adjusting-configs)...\n",
    "\n",
    "You can learn more about the `climate configs` [here](https://docs.fairmodel.net/en/latest/api_reference.html#fair.energy_balance_model.EnergyBalanceModel)\n",
    "\n",
    "Let's try running the same experiment as above, but with 3 separate ocean configurations from the FaIR website:\n",
    "\n",
    "Below:\n",
    "\n",
    "-`ocean_heat_capacity` (np.ndarray) – Ocean heat capacity of each layer (top first), in units of $\\text{W m}^{-2} \\text{yr K}^{-1}$\n",
    "\n",
    "-`ocean_heat_transfer` (np.ndarray) – Heat exchange coefficient between ocean layers (top first). The first element of this array is akin to the climate feedback parameter, with the convention that stabilising feedbacks are positive (opposite to most climate sensitivity literature). In units of $\\text{W m}^{-2} \\text{yr K}^{-1}$\n",
    "\n",
    "-`deep_ocean_efficacy` (float) – efficacy of deepest ocean layer. See e.g. [Geoffroy et al. 2013](https://doi-org.dartmouth.idm.oclc.org/10.1175/JCLI-D-12-00196.1).\n",
    "\n",
    "All of these center on considering how the ocean shapes the rate of warming we actually experience from a perturbation like GHGs. For example, enhanced ocean heat uptake ***reduces*** the rate of warming and this effect occurs preferentially in some regions, such as those associated with regions of deep ocean water formation in the North Atlantic ocean and the circumpolar ocean of the Southern Hemisphere. Because the feedback strength varies geographically, the pattern of surface temperature change induced by the ocean heat uptake may impact the radiative imbalance, and therefore other feedbacks, $\\lambda_{total} = \\sum_{i=1}^{n}{\\lambda_i}$, that influence ECS."
   ]
  },
  {
   "cell_type": "code",
   "execution_count": null,
   "metadata": {},
   "outputs": [],
   "source": [
    "# create FaIR instance\n",
    "f = FAIR()\n",
    "\n",
    "# define time horizon\n",
    "f.define_time(0,1500,1)\n",
    "\n",
    "# Define scenarios (only one in this case)\n",
    "f.define_scenarios(['abrupt-2xCO2'])\n",
    "\n",
    "# Define configs (THREE this time!)\n",
    "fconfigs = ['high', 'central', 'low']\n",
    "f.define_configs(fconfigs)\n",
    "\n",
    "# Define species (and properties)\n",
    "\n",
    "# in this case, only care about CO2 concentrations but model wants us to define nitrous oxide (N2O) and methane (CH4) as well\n",
    "species = ['CO2', 'N2O', 'CH4']\n",
    "\n",
    "# note that we set input_mode as concentration this time\n",
    "properties = {\n",
    "    'CO2': {\n",
    "        'type': 'co2',\n",
    "        'input_mode': 'concentration',\n",
    "        'greenhouse_gas': True,\n",
    "        'aerosol_chemistry_from_emissions': False,\n",
    "        'aerosol_chemistry_from_concentration': False,\n",
    "    },\n",
    "    'CH4': {\n",
    "      'type': 'ch4',\n",
    "      'input_mode': 'concentration',\n",
    "      'greenhouse_gas': False, # note here\n",
    "      'aerosol_chemistry_from_emissions': False,\n",
    "      'aerosol_chemistry_from_concentration': True # we treat methane as a reactive gas (?)\n",
    "    },\n",
    "     'N2O': {\n",
    "          'type': 'n2o',\n",
    "          'input_mode': 'concentration',\n",
    "          'greenhouse_gas': False, # note here (!!!)\n",
    "          'aerosol_chemistry_from_emissions': False,\n",
    "          'aerosol_chemistry_from_concentration': True # we treat nitrous oxide as a reactive gas (?)\n",
    "     },\n",
    "}\n",
    "\n",
    "\n",
    "f.define_species(species, properties)\n",
    "\n",
    "# create input and output data\n",
    "f.allocate()\n",
    "\n",
    "# fill in all data (initial conditions, configs, etc)\n",
    "\n",
    "# this is filling 'concentration' from 'CO2' for our 'abrupt-2xCO2' scenario\n",
    "# to ALWAYS equal 556.6 parts per million (which is double the measured pre-industrial levels of 278.3)\n",
    "fill(f.concentration, 556.6, scenario='abrupt-2xCO2', specie='CO2') \n",
    "\n",
    "# Set CH4 and N20 to stay at their preindustrial levels\n",
    "fill(f.concentration, 722e-3, scenario='abrupt-2xCO2', specie='CH4') # source: 722 ppb via wikipedia\n",
    "fill(f.concentration, 275e-3, scenario='abrupt-2xCO2', specie='N2O') # source: Xu, et al. 2016 (https://cp.copernicus.org/articles/13/977/2017/cp-13-977-2017.pdf)\n",
    "\n",
    "# Define first timestep\n",
    "initialise(f.concentration, 278.3, specie='CO2')\n",
    "initialise(f.concentration, 722e-3, specie='CH4')\n",
    "initialise(f.concentration, 275e-3, specie='N2O')\n",
    "initialise(f.forcing, 0)\n",
    "initialise(f.temperature, 0)\n",
    "initialise(f.cumulative_emissions, 0)\n",
    "\n",
    "# fill all species configs as defaults\n",
    "f.fill_species_configs()\n",
    "\n",
    "# Fill climate configs -- these taken from the CENTRAL FaIR example configs (any built-in defaults?)\n",
    "for cf in fconfigs:\n",
    "    \n",
    "    if cf=='low':\n",
    "        # ocean heat transfer config\n",
    "        oht = [1.7, 2.0, 1.1]\n",
    "        # ocean heat capacity config\n",
    "        ohc = [6, 11, 75]\n",
    "        # deep ocean efficacy config\n",
    "        doe = 0.8\n",
    "    elif cf=='central':\n",
    "        oht = [1.1, 1.6, 0.9]\n",
    "        ohc = [8, 14, 100]\n",
    "        doe = 1.1\n",
    "    elif cf=='high':\n",
    "        oht = [0.6, 1.3, 1.0]\n",
    "        ohc = [5, 15, 80]\n",
    "        doe = 1.29\n",
    "        \n",
    "    fill(f.climate_configs[\"ocean_heat_transfer\"], oht, config=cf)\n",
    "    fill(f.climate_configs[\"ocean_heat_capacity\"], ohc, config=cf)\n",
    "    fill(f.climate_configs[\"deep_ocean_efficacy\"], doe, config=cf)\n",
    "    \n",
    "# finally, run FaIR\n",
    "f.run(progress=False)"
   ]
  },
  {
   "cell_type": "markdown",
   "metadata": {},
   "source": [
    "Look at `f.temperature`, you'll see that FaIR outputs data in Xarray format. \n",
    "\n",
    "What are the dimensions? Look back at `low`, `central` and `high`. What do you notice about the OHC, efficacy and transfer parameters? "
   ]
  },
  {
   "cell_type": "code",
   "execution_count": null,
   "metadata": {},
   "outputs": [],
   "source": []
  },
  {
   "cell_type": "markdown",
   "metadata": {},
   "source": [
    "**TRY IT:** Let's try to adjust the plotting code from the previous section to plot global mean surface temperatures for the Low, Medium, and High configurations all on the same axes. The majority of the code is done for you, you just have to figure out how to select temperature data for the correct scenario, layer, and config.\n",
    "\n",
    "Hint: Edit the command `f.temperature.sel()` with your selection criteria to grab the temps for each configuration."
   ]
  },
  {
   "cell_type": "raw",
   "metadata": {},
   "source": [
    "# plot Global Mean Surface Temperature (GMST) time series\n",
    "fig, ax = plt.subplots()\n",
    "\n",
    "# x data = times\n",
    "times = f.timebounds\n",
    "\n",
    "# select temps for low, central, and high configs\n",
    "temps_lo = f.temperature.sel() # <-- Edit between these parentheses, select the 'low' config\n",
    "temps_cn = f.temperature.sel() # central\n",
    "temps_hi = f.temperature.sel() # high\n",
    "\n",
    "# plot each\n",
    "ax.plot(times, temps_lo, label='low')\n",
    "ax.plot(times, temps_cn, label='central')\n",
    "ax.plot(times, temps_hi, label='high')\n",
    "\n",
    "# legend\n",
    "ax.legend()\n",
    "\n",
    "# label\n",
    "ax.set(xlabel='YEAR', ylabel='TEMP. ANOMALY [K]', title='ECS SCENARIO ON FaIR - CHANGING CLIMATE CONFIGS')"
   ]
  },
  {
   "cell_type": "code",
   "execution_count": null,
   "metadata": {},
   "outputs": [],
   "source": []
  },
  {
   "cell_type": "markdown",
   "metadata": {},
   "source": [
    "**QUESTION:** \n",
    "\n",
    "What role do these configurations have on ECS? Do they matter?"
   ]
  },
  {
   "cell_type": "code",
   "execution_count": null,
   "metadata": {},
   "outputs": [],
   "source": []
  },
  {
   "cell_type": "markdown",
   "metadata": {},
   "source": [
    "---\n",
    "# 6. Transient Climate Response (TCR) \n",
    "---"
   ]
  },
  {
   "cell_type": "markdown",
   "metadata": {},
   "source": [
    "> The transient climate response (TCR) is the global mean surface temperature change at the point where double pre-industrial atmospheric CO2 concentration is reached in an experiment where $\\text{CO}_2$ concentration is increased at a compound rate of 1% per year and all other forcers fixed at pre-industrial. This is around 69.7 years (many models use 70 years). It is a measure of both long-term sensitivity of climate and medium-term rate of climate response.\n",
    "\n",
    "So caclulating the TCR requires a different **experimental design** than that for ECS. Instead of instantaneously doubling or quadrupling the $\\text{CO}_2$ in the model, we're going to ramp it up more like we have been doing in the real world, say at a rate of a 1% increase per year, until we've doubled the amount of $\\text{CO}_2$ in the atmosphere...\n",
    "\n",
    "<center><img src=https://archive.ipcc.ch/ipccreports/tar/wg1/images/fig9-1.gif> </center>\n",
    "From IPCC TAR WGI"
   ]
  },
  {
   "cell_type": "markdown",
   "metadata": {},
   "source": [
    "Ok, so to do this, let's run FaIR at a constant annual rate of increase in $\\text{CO}_2$ concentrations over pre-industrial levels. To do so, we first need to create a timeseries of $\\text{CO}_2$ data. \n",
    "\n",
    "The most common design is to let the model \"see\" a 1% increase in atmospheric $\\text{CO}_2$ concentrations per year until a doubling or quadrupling. We can borrow some simple logic from [compound interest](https://www.investor.gov/financial-tools-calculators/calculators/compound-interest-calculator), where we just have exponential growth in [$\\text{CO}_2$].\n",
    "\n",
    "**TRY IT:** Use your Python and NumPy skills to generate an array of $\\text{CO}_2$ concentrations as inputs for this experiment. The array should be 140 elements long, with the initial value at 278.3 and a 1% increase at each step. Save the array to varname `co2_arr` so that it gets automatically plugged in to the FaIR code below.\n",
    "\n",
    "*Hint: One way to represent this 1% exponential growth would be with the following equation:* $[CO_2] = 278.3 \\cdot (1 + 0.01)^{t}$"
   ]
  },
  {
   "cell_type": "code",
   "execution_count": null,
   "metadata": {},
   "outputs": [],
   "source": []
  },
  {
   "cell_type": "markdown",
   "metadata": {},
   "source": [
    "Next, verify that your `co2_arr` looks as it should (exponential growth, final value around 1113.2) by plotting, indexing parts of the array, or both. `co2_arr.shape` should be (140,) for the FaIR code to work.\n",
    "\n",
    "It's ok if your final value is greater than 113.2, because doubling only takes 69.7 years so a quadrupling will take less than 140!"
   ]
  },
  {
   "cell_type": "code",
   "execution_count": null,
   "metadata": {},
   "outputs": [],
   "source": []
  },
  {
   "cell_type": "markdown",
   "metadata": {},
   "source": [
    "Now let's create our FaIR instance. Define the time so that the simulation runs for 140 years, with a timestep representing 1 year. "
   ]
  },
  {
   "cell_type": "code",
   "execution_count": null,
   "metadata": {},
   "outputs": [],
   "source": [
    "# Create FaIR instance\n",
    "f = FAIR()\n",
    "\n",
    "\n",
    "# Define time horizon (want 140 years now)\n"
   ]
  },
  {
   "cell_type": "markdown",
   "metadata": {},
   "source": [
    "Now we will run FaIR using the CO2 array we just created as the CO2 input forcings."
   ]
  },
  {
   "cell_type": "code",
   "execution_count": null,
   "metadata": {},
   "outputs": [],
   "source": [
    "# Define scenarios (only one in this case)\n",
    "f.define_scenarios(['TCR'])\n",
    "\n",
    "# Define configs (only doing one, default for now)\n",
    "f.define_configs(['default'])\n",
    "f.configs\n",
    "\n",
    "# Define species (and properties)\n",
    "\n",
    "# in this case, only specie is CO2 concentrations\n",
    "species = ['CO2', 'N2O', 'CH4']\n",
    "\n",
    "# note that we set input_mode as concentration this time\n",
    "properties = {\n",
    "    'CO2': {\n",
    "        'type': 'co2',\n",
    "        'input_mode': 'concentration',\n",
    "        'greenhouse_gas': True,\n",
    "        'aerosol_chemistry_from_emissions': False,\n",
    "        'aerosol_chemistry_from_concentration': False,\n",
    "    },\n",
    "    'CH4': {\n",
    "      'type': 'ch4',\n",
    "      'input_mode': 'concentration',\n",
    "      'greenhouse_gas': False, # note here\n",
    "      'aerosol_chemistry_from_emissions': False,\n",
    "      'aerosol_chemistry_from_concentration': True # we treat methane as a reactive gas (?)\n",
    "    },\n",
    "     'N2O': {\n",
    "          'type': 'n2o',\n",
    "          'input_mode': 'concentration',\n",
    "          'greenhouse_gas': False, # note here (!!!)\n",
    "          'aerosol_chemistry_from_emissions': False,\n",
    "          'aerosol_chemistry_from_concentration': True # we treat nitrous oxide as a reactive gas (?)\n",
    "     },\n",
    "}\n",
    "\n",
    "\n",
    "f.define_species(species, properties)\n",
    "\n",
    "# create input and output data\n",
    "f.allocate()\n",
    "\n",
    "# fill in all data (initial conditions, configs, etc)\n",
    "\n",
    "\n",
    "co2_arr_forfill = np.expand_dims(co2_arr, axis=1) # just need to reshape the co2_arr\n",
    "                                     # so it lines up with FaIR's desired dimensions\n",
    "\n",
    "# this is filling 'concentration' from 'CO2' for our 'TCR' scenario\n",
    "# to be the array that we came up with before\n",
    "fill(f.concentration, co2_arr_forfill, scenario='TCR', specie='CO2') \n",
    "\n",
    "# PREINDUSTRIAL METHANE = 722 PPB = 722e-3 ppm (wikipedia)\n",
    "# PREINDUSTRIAL N2O... 275 ppb = 275e-3 ppm  (Xu, et al. 2016 https://cp.copernicus.org/articles/13/977/2017/cp-13-977-2017.pdf)\n",
    "\n",
    "# Set CH4 and N20...\n",
    "fill(f.concentration, 722e-3, scenario='TCR', specie='CH4')\n",
    "fill(f.concentration, 275e-3, scenario='TCR', specie='N2O')\n",
    "\n",
    "# Define first timestep\n",
    "initialise(f.concentration, 278.3, specie='CO2')\n",
    "initialise(f.concentration, 722e-3, specie='CH4')\n",
    "initialise(f.concentration, 275e-3, specie='N2O')\n",
    "initialise(f.forcing, 0)\n",
    "initialise(f.temperature, 0)\n",
    "initialise(f.cumulative_emissions, 0)\n",
    "initialise(f.airborne_emissions, 0)\n",
    "\n",
    "# fill all species configs as defaults\n",
    "f.fill_species_configs()\n",
    "\n",
    "# Fill climate configs -- these taken from the CENTRAL FaIR example configs (any built-in defaults?)\n",
    "fill(f.climate_configs[\"ocean_heat_transfer\"], [1.1, 1.6, 0.9])\n",
    "fill(f.climate_configs[\"ocean_heat_capacity\"], [8, 14, 100])\n",
    "fill(f.climate_configs[\"deep_ocean_efficacy\"], 1.1)\n",
    "\n",
    "# run FaIR\n",
    "f.run(progress=False)"
   ]
  },
  {
   "cell_type": "markdown",
   "metadata": {},
   "source": [
    "... And, let's plot. "
   ]
  },
  {
   "cell_type": "code",
   "execution_count": null,
   "metadata": {},
   "outputs": [],
   "source": [
    "# plot\n",
    "fig, ax = plt.subplots()\n",
    "\n",
    "# plot surface (level 0) temp data for our TCR default run\n",
    "ax.plot(f.timebounds, f.temperature.sel(scenario='TCR', layer=0, config='default')) \n",
    "\n",
    "# labels\n",
    "ax.set(xlabel='YEAR', ylabel='TEMP. ANOMALY [K]', title='TCR SCENARIO ON FaIR DEFAULT')"
   ]
  },
  {
   "cell_type": "markdown",
   "metadata": {},
   "source": [
    "*** QUESTION:*** Notice we put in exponential $\\text{CO}_2$, but that temperature scales relatively linearly with it. Why?"
   ]
  },
  {
   "cell_type": "markdown",
   "metadata": {},
   "source": []
  },
  {
   "cell_type": "markdown",
   "metadata": {},
   "source": [
    "Lastly, lets find the precise value of ∆T after 70 years of this simulation and compare that to the Meehl figure above. Does this square away with the CMIP6 TCR estimates?"
   ]
  },
  {
   "cell_type": "raw",
   "metadata": {},
   "source": [
    "# fill in the code below these comments:\n",
    "\n",
    "# make an array called TCRtemps by taking f.temperature, selecting for the TCR scenario, layer 0, and 'default' configuration\n",
    "\n",
    "# display the 70th element of TCRtemps \n"
   ]
  },
  {
   "cell_type": "code",
   "execution_count": null,
   "metadata": {},
   "outputs": [],
   "source": []
  },
  {
   "cell_type": "code",
   "execution_count": null,
   "metadata": {},
   "outputs": [],
   "source": []
  },
  {
   "cell_type": "markdown",
   "metadata": {},
   "source": [
    "---\n",
    "# 7. Run a Bunch of SSP's with FaIR\n",
    "---"
   ]
  },
  {
   "cell_type": "markdown",
   "metadata": {},
   "source": [
    "Demonstration: FaIR also has lots of built-in [SSP (Shared Socioeconomic Pathway)](https://www.carbonbrief.org/explainer-how-shared-socioeconomic-pathways-explore-future-climate-change/) emissions scenarios that can be used to run the model. We will demonstrate this by running the available scenarios below. An interesting final project could include running some sort of FaIR experiments with these SSP's or modifying the scenarios to your liking...\n",
    "\n",
    "<center><img src=https://climatedata.ca/site/assets/uploads/2022/03/SSPexplainer_Figure4.png></center>\n",
    "From ClimateData.ca"
   ]
  },
  {
   "cell_type": "code",
   "execution_count": null,
   "metadata": {},
   "outputs": [],
   "source": [
    "# init fair\n",
    "f = FAIR(ch4_method='thornhill2021') #we want to enable the methane lifetime routine that is a function of SLCFs and reactive gases, see documentation\n",
    "# set time horizon\n",
    "f.define_time(1750, 2100, 1)\n",
    "\n",
    "# Define SSP scenarios (these all come from RCMIP)\n",
    "scenarios = ['ssp119', 'ssp126', 'ssp245', 'ssp370', 'ssp434', 'ssp460', 'ssp534-over', 'ssp585'] \n",
    "f.define_scenarios(scenarios)\n",
    "\n",
    "# define configs - still just the one default\n",
    "f.define_configs(['default'])\n",
    "\n",
    "# define species and properties\n",
    "species, properties = read_properties()\n",
    "f.define_species(species, properties)\n",
    "\n",
    "# allocate for input and output data\n",
    "f.allocate()\n",
    "\n",
    "# fill in the data \n",
    "\n",
    "# (get default species configs)\n",
    "f.fill_species_configs()\n",
    "\n",
    "# get emissions + solar and volcanic forcing from RCMIP datasets using 'fill_from_rcmip()' helper function\n",
    "f.fill_from_rcmip()\n",
    "\n",
    "# initial conditions\n",
    "initialise(f.concentration, f.species_configs['baseline_concentration'])\n",
    "initialise(f.forcing, 0)\n",
    "initialise(f.temperature, 0)\n",
    "initialise(f.cumulative_emissions, 0)\n",
    "initialise(f.airborne_emissions, 0)\n",
    "\n",
    "# fill climate configs using default middle-of-the-road vals from above\n",
    "fill(f.climate_configs[\"ocean_heat_transfer\"], [1.1, 1.6, 0.9])\n",
    "fill(f.climate_configs[\"ocean_heat_capacity\"], [8, 14, 100])\n",
    "fill(f.climate_configs[\"deep_ocean_efficacy\"], 1.1)\n",
    "\n",
    "# run FaIR\n",
    "f.run(progress=False)"
   ]
  },
  {
   "cell_type": "code",
   "execution_count": null,
   "metadata": {},
   "outputs": [],
   "source": [
    "# Plot temp timeseries for each of the scenarios\n",
    "\n",
    "fig, ax = plt.subplots(figsize=(12, 6))\n",
    "\n",
    "# plot each ssp\n",
    "for ssp in scenarios:\n",
    "\n",
    "    ax.plot(f.timebounds, f.temperature.sel(scenario=ssp, layer=0), label=ssp)\n",
    "    \n",
    "# titles / labels\n",
    "ax.set(title='FaIR SSPs: GLOBAL MEAN SURFACE TEMPERATURE', \n",
    "       xlabel='YEAR', \n",
    "       ylabel='TEMPERATURE ANOMALY (K)')\n",
    "\n",
    "# legend\n",
    "ax.legend()\n",
    "\n",
    "# look from 2000-2100\n",
    "ax.set_xlim(2000,2100)\n",
    "\n",
    "# line at present day\n",
    "ax.axvline(2023, ls='--', color='grey')"
   ]
  },
  {
   "cell_type": "markdown",
   "metadata": {},
   "source": [
    "**Play around with this -- the documentation is quite thorough and the possibilities with it are endless...**"
   ]
  }
 ],
 "metadata": {
  "kernelspec": {
   "display_name": "Python mankin",
   "language": "python",
   "name": "mankin"
  },
  "language_info": {
   "codemirror_mode": {
    "name": "ipython",
    "version": 3
   },
   "file_extension": ".py",
   "mimetype": "text/x-python",
   "name": "python",
   "nbconvert_exporter": "python",
   "pygments_lexer": "ipython3",
   "version": "3.9.7"
  }
 },
 "nbformat": 4,
 "nbformat_minor": 2
}
