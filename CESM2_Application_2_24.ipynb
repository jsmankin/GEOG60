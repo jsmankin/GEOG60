{
 "cells": [
  {
   "cell_type": "markdown",
   "metadata": {},
   "source": [
    "---\n",
    "# ***CESM2 Application: Attribution of Climate Change to Antropogenic Influence***\n",
    "## **2/24/2023**\n",
    "---"
   ]
  },
  {
   "cell_type": "markdown",
   "metadata": {},
   "source": [
    "### Now that we have successfully run a small part of a CESM2 historical simulation, let's look an important application of this type of experiment. \n",
    "\n",
    "### Though the \"historical\" experiment may not seeem as exciting as the SSP's, it can actually provide some evidence towards one of one of the *most policy- and socially-relevant applications of Earth System Modeling:* the attribution of climate change to anthropogenic (human) causes. This won the Nobel Peace Prize for the IPCC Third Assessment Report!\n",
    "\n",
    "### In fact, there are a few variations of the \"historical\" experiment that allow for this attribution. The variations in these experiments' input forcings are very important, so let's familiarize ourselves with these forcings below:"
   ]
  },
  {
   "cell_type": "markdown",
   "metadata": {},
   "source": [
    "## The Experiments:\n",
    "- \"historical\": WMGHGs, BC, OC, SO$_2$ , SO$_4$ , NO$_x$, NH$_3$ , CO, NMVOC, nitrogen deposition, ozone, stratospheric aerosols, solar irradiance, land use. (In other words, all observed forcing sources!)\n",
    "- \"hist-nat\": Natural-only historical simulations (solar irradiance, stratospheric aerosol)\n",
    "    - irradiance changes ex. from Milankovitch cycles, solar cycles\n",
    "    - aerosols from 'natural' sources e.g. volcanic eruptions in the historical record\n",
    "- \"hist-GHG\": Well-mixed greenhouse-gas-only historical simulations (WMGHGs)\n",
    "- \"hist-aer\": Anthropogenic-aerosol-only historical simulations (BC, OC, SO$_2$ , SO$_4$ , NO$_x$, NH$_3$ , CO, NMVOC)\n",
    "\n",
    "Overall, all of these experiments simulate the Earth system from 1850-2020, but they all incorporate DIFFERENT levels and sources of forcings. \n",
    "    (Remember, forcings are things such as aerosols and greenhouse gases which have the power to disrupt the balance of ENERGY IN vs ENERGY OUT, in other words, they introduce a radiative imbalance.)"
   ]
  },
  {
   "cell_type": "markdown",
   "metadata": {},
   "source": [
    "#### So, let's have a look at CESM2's temperature output for these experiments and compare them to [some observational data]('https://data.giss.nasa.gov/gistemp/') while we're at it. \n",
    "\n",
    "#### Since we did not have the time or computing resources to run all these simulations ourselves, I have pulled and prepared output data from the CESM2 archive for your viewing pleasure.\n",
    "\n",
    "\n",
    "\n",
    "*If it matters/is useful to you, these were the steps to creating the data that we'll load now:*\n",
    "- *Download CESM2 output files for each of the 4 experiments above, selecting the surface temperature variable (data dims: lat, lon, time)*\n",
    "- *Resample the data from monthly to yearly (take the 12-month average for each year)*\n",
    "- *Create global mean temperature timeseries, weighting by grid cell size (data dims: time)*\n",
    "- *Combine all the experiments into xarray one dataset for use on JHub*"
   ]
  },
  {
   "cell_type": "code",
   "execution_count": null,
   "metadata": {},
   "outputs": [],
   "source": [
    "# import the libraries that we'll need\n",
    "import os\n",
    "import numpy as np\n",
    "import xarray as xr\n",
    "\n",
    "import matplotlib.pyplot as plt\n",
    "from matplotlib import rcParams\n",
    "import matplotlib.colors as colors"
   ]
  },
  {
   "cell_type": "code",
   "execution_count": null,
   "metadata": {},
   "outputs": [],
   "source": [
    "# set root directory\n",
    "root_dir = '/home/jovyan/shared/GEOG60/'"
   ]
  },
  {
   "cell_type": "code",
   "execution_count": null,
   "metadata": {},
   "outputs": [],
   "source": [
    "# open cesm data\n",
    "cesm_ds = xr.open_dataset(os.path.join(root_dir, 'tas_Amon_CESM2_global.nc'))\n",
    "cesm_ds\n",
    "\n",
    "# click through the datset and note the 4 values in the 'exp' dimension!"
   ]
  },
  {
   "cell_type": "code",
   "execution_count": null,
   "metadata": {},
   "outputs": [],
   "source": [
    "# open observational data (called GISTEMP, from NASA)\n",
    "gistemp_ds = xr.open_dataset(os.path.join(root_dir, 'gistemp1200_GHCNv5_ERSSTv5_gmst.nc'))\n",
    "gistemp_ds"
   ]
  },
  {
   "cell_type": "code",
   "execution_count": null,
   "metadata": {},
   "outputs": [],
   "source": [
    "## Compare CESM2 with Observations\n",
    "\n",
    "# Need to convert CESM2 GSMT to temp anomaly from 1880 (b/c that's what GISTEMP is)\n",
    "cesm_anomds = (cesm_ds - cesm_ds.sel(time='1880-01-01', method='nearest')) # making CESM gmst timeseries as anomaly from 1880.\n",
    "cesm_anomds"
   ]
  },
  {
   "cell_type": "markdown",
   "metadata": {},
   "source": [
    "## Now, let's make some plots of temperature vs. time for the various CESM2 experiments and compare them with our observational data. "
   ]
  },
  {
   "cell_type": "code",
   "execution_count": null,
   "metadata": {},
   "outputs": [],
   "source": [
    "# Plot to compare CESM2 with GISTEMP (observed)\n",
    "\n",
    "# plot\n",
    "fig, ax = plt.subplots(figsize=(12, 6))\n",
    "\n",
    "# plot CESM2 data for each exp\n",
    "for ee in ['hist-nat', 'hist-GHG', 'hist-aer', 'historical']:\n",
    "    \n",
    "    ax.plot(cesm_anomds.time, cesm_anomds.tas.sel(exp=ee), label=ee+' (CESM2)')\n",
    "    \n",
    "# observations\n",
    "gistemp_ds.tempanomaly.plot(ax=ax, label='Observed (GISTEMP)', color='k')\n",
    "\n",
    "# legend\n",
    "ax.legend()\n",
    "\n",
    "# labels\n",
    "ax.set_ylabel('GMST Anomaly [K]', size=14)\n",
    "ax.set_xlabel('Year', size=14)\n",
    "plt.suptitle(t='CESM2 Experiments vs. Observed Global Temperatures', y=0.95, fontsize=18)\n",
    "\n",
    "plt.show()"
   ]
  },
  {
   "cell_type": "markdown",
   "metadata": {},
   "source": [
    "## ... think about what it all means"
   ]
  },
  {
   "cell_type": "markdown",
   "metadata": {},
   "source": [
    "#### Take a moment or two to consider the plot above. What are we looking at here, and why do the temp. vs. time lines differ for each experiment?"
   ]
  },
  {
   "cell_type": "code",
   "execution_count": null,
   "metadata": {},
   "outputs": [],
   "source": []
  },
  {
   "cell_type": "markdown",
   "metadata": {},
   "source": [
    "#### Which experiment matches best with the observed data? Things might be a bit clearer if we plot each experiment vs. the observations one-by-one:"
   ]
  },
  {
   "cell_type": "code",
   "execution_count": null,
   "metadata": {},
   "outputs": [],
   "source": [
    "# Compare CESM2 to Observations, but one subplot per experiment (easier to view?)\n",
    "\n",
    "# setup axes\n",
    "nrows = 2\n",
    "ncols = 2\n",
    "fig, ax = plt.subplots(nrows,ncols, sharey=True, figsize=(12,12))\n",
    "\n",
    "# list of experiments\n",
    "explist = ['hist-nat', 'hist-GHG', 'hist-aer', 'historical']\n",
    "\n",
    "# experiment counter\n",
    "expcntr = 0\n",
    "\n",
    "# on each axes, plot <experiment> vs. observed\n",
    "for i in range(nrows):\n",
    "    for j in range(ncols):\n",
    "        \n",
    "        # sel experiment\n",
    "        ee = explist[expcntr]\n",
    "        \n",
    "        # set exp color (so consistent with above plot)\n",
    "        if ee=='hist-nat':\n",
    "            c = 'blue'\n",
    "        elif ee=='hist-GHG':\n",
    "            c = 'orange'\n",
    "        elif ee=='hist-aer':\n",
    "            c = 'green'\n",
    "        if ee=='historical':\n",
    "            c = 'red'\n",
    "            \n",
    "        # plot cesm data for <experiment>\n",
    "        ax[i,j].plot(cesm_anomds.time, cesm_anomds.tas.sel(exp=ee), color=c, label=ee+' (CESM2)')\n",
    "        \n",
    "        # plot obs on the same ax\n",
    "        gistemp_ds.tempanomaly.plot(ax=ax[i,j], label='Observed (GISTEMP)', color='k')\n",
    "        \n",
    "        # legend, labels, title\n",
    "        ax[i,j].legend()\n",
    "        ax[i,j].set(title='\"{}\" Experiment vs. Observed Temps'.format(ee), \n",
    "                       ylabel='GMST Anomaly [K]',\n",
    "                       xlabel='Year')\n",
    "        \n",
    "        # update expcntr\n",
    "        expcntr += 1\n",
    "        \n",
    "# overall title\n",
    "plt.suptitle('CESM2 Experiments vs. Observed Global Temperatures', y=1.01, fontsize='18')\n",
    "\n",
    "fig.tight_layout()\n",
    "plt.show()"
   ]
  },
  {
   "cell_type": "code",
   "execution_count": null,
   "metadata": {},
   "outputs": [],
   "source": [
    "# you can write your answer here:\n"
   ]
  },
  {
   "cell_type": "markdown",
   "metadata": {},
   "source": [
    "#### Do these results 'complicate' or 'confirm' the hypothesis that humans are causing climate change?"
   ]
  },
  {
   "cell_type": "code",
   "execution_count": null,
   "metadata": {},
   "outputs": [],
   "source": []
  },
  {
   "cell_type": "markdown",
   "metadata": {},
   "source": [
    "#### Consider the different experiments we have looked at while coming to our conclusion. Were all of these experiments necessary for this conclusion, or only one? "
   ]
  },
  {
   "cell_type": "code",
   "execution_count": null,
   "metadata": {},
   "outputs": [],
   "source": []
  },
  {
   "cell_type": "markdown",
   "metadata": {},
   "source": [
    "#### Given your thoughts and answers above, how can our models play a role in drawing causal conclusions about climate change? (Think back to week 1!)"
   ]
  },
  {
   "cell_type": "code",
   "execution_count": null,
   "metadata": {},
   "outputs": [],
   "source": []
  },
  {
   "cell_type": "markdown",
   "metadata": {},
   "source": [
    "#### Are there any assumptions or mechanisms that you have to rely on or \"trust\" to draw this conclusion?"
   ]
  },
  {
   "cell_type": "code",
   "execution_count": null,
   "metadata": {},
   "outputs": [],
   "source": []
  },
  {
   "cell_type": "markdown",
   "metadata": {},
   "source": [
    "#### Is this evidence \"enough\" to convince you of Anthropogenic Climate Change?"
   ]
  },
  {
   "cell_type": "code",
   "execution_count": null,
   "metadata": {},
   "outputs": [],
   "source": []
  },
  {
   "cell_type": "markdown",
   "metadata": {},
   "source": [
    "# Bonus"
   ]
  },
  {
   "cell_type": "markdown",
   "metadata": {},
   "source": [
    "# IPCC Figure Showing Detection and Attribution of Anthropogenic Climate Change"
   ]
  },
  {
   "cell_type": "markdown",
   "metadata": {},
   "source": [
    "</center>\n",
    "<img src='https://science2017.globalchange.gov/img/figure/figure3_1.png' width=\"800\">\n",
    "</center>\n",
    "\n",
    "[IPCC D&A Figure](https://science2017.globalchange.gov/chapter/3/#:~:text=Detection%20and%20attribution%20of%20climate%20change%20involves%20assessing%20the%20causes,observations%20using%20various%20statistical%20methods.)"
   ]
  }
 ],
 "metadata": {
  "kernelspec": {
   "display_name": "Python nvas311",
   "language": "python",
   "name": "nvas311"
  },
  "language_info": {
   "codemirror_mode": {
    "name": "ipython",
    "version": 3
   },
   "file_extension": ".py",
   "mimetype": "text/x-python",
   "name": "python",
   "nbconvert_exporter": "python",
   "pygments_lexer": "ipython3",
   "version": "3.8.2"
  }
 },
 "nbformat": 4,
 "nbformat_minor": 2
}
