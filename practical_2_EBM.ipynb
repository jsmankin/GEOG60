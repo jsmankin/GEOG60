{
 "cells": [
  {
   "cell_type": "markdown",
   "metadata": {},
   "source": [
    "# **GEOG 60.01** ***Practical 2: Energy Balance Models***\n",
    " "
   ]
  },
  {
   "cell_type": "markdown",
   "metadata": {},
   "source": [
    "#### The global energy budget\n",
    "\n",
    "<div>\n",
    "<img src=https://media.springernature.com/lw685/springer-static/image/art%3A10.1007%2Fs10712-011-9150-2/MediaObjects/10712_2011_9150_Fig1_HTML.gif width=\"600\">\n",
    "<div>\n",
    "\n",
    "*Trenberth et al. (2009)*"
   ]
  },
  {
   "cell_type": "markdown",
   "metadata": {},
   "source": [
    "---\n",
    "# A 0-Dimensonal Energy Balance Model\n",
    "---"
   ]
  },
  {
   "cell_type": "markdown",
   "metadata": {},
   "source": [
    "## 1. Recap of our simple EBM"
   ]
  },
  {
   "cell_type": "markdown",
   "metadata": {},
   "source": [
    "**Preliminaries:** \n",
    "\n",
    "Last class we introduced a simple model (analogous to our bathtub model) saying that the energy Earth receives from the sun must be balanced by the energy Earth radiates back out to space ($IN = OUT$).\n",
    "\n",
    "This simple idea of energy balance allows us to acheive **our goal of predicting the temperature of the Earth** (just like the goal of our bathtub model was to predict the steady-state water level).\n",
    "\n",
    "To do this, we leveraged a simple model from high-school physics called blackbody radiation. \n",
    "\n",
    "A blackbody absorbs and emits light (electromagnetic energy) at all wavelengths and a blackbody curve, or \"Planck function\" tells us the relationship between the intensity of the light being emitted at a particular wavelength (or frequency or wavenumber). \n",
    "\n",
    "So blackbody radiation is useful in that it relates energy (which we know, because $IN=OUT$) to temperature (which we do not know, but want to know). \n",
    "\n",
    "Blackbody phyics tells us that if we assume Earth behaves mostly like a blackbody, that it must heat up to some emission temperature, $T_e$, to ensure that it is radiating enough energy back out to space such that we balance the books (i.e., that $IN=OUT$). \n",
    "\n",
    "We did a bit of alegra, invoked a tiny bit of geometry, and based on a conceptual model and a list of factors we thought mattered, we came up with a model that says that the light absorbed by Earth (i.e., the $IN$ side of the equation) is balanced by the light Earth radiates back out to space. We assumed, for simplicity, that Earth absorbs and emits light at all the frequencies (i.e., that Earth behaves like a **blackbody radiator** with effective global mean **emission temperature $T_e$**):"
   ]
  },
  {
   "cell_type": "markdown",
   "metadata": {
    "slideshow": {
     "slide_type": "slide"
    }
   },
   "source": [
    "So here's our EBM we derived:"
   ]
  },
  {
   "cell_type": "markdown",
   "metadata": {},
   "source": [
    "$$\\text{ENERGY IN} = \\text{ENERGY OUT}$$\n",
    "\n",
    "aka\n",
    "\n",
    "$$ \\text{Absorbed Sunlight} = \\text{Emitted Earth Light} $$\n",
    "\n",
    "or, more formally:\n",
    "\n",
    "$$(1 - \\alpha) {L\\over4} = \\epsilon \\sigma T^4$$ (Eq. 1)"
   ]
  },
  {
   "cell_type": "markdown",
   "metadata": {},
   "source": [
    "Today we will take a step back and build our simple energy balance model in python, just like the one for last week's bathtub,paying attention to the reasons and assumptions behind each **parameter, constant, and variable.**"
   ]
  },
  {
   "cell_type": "markdown",
   "metadata": {
    "slideshow": {
     "slide_type": "slide"
    }
   },
   "source": [
    "### Energy In\n",
    "\n",
    "First, let's review and define a few terms on the $\\text{ENERGY IN}$ side."
   ]
  },
  {
   "cell_type": "markdown",
   "metadata": {},
   "source": [
    "$$ \\text{ENERGY IN} = (1 - \\alpha) {L\\over 4}$$ (Eq. 2)\n"
   ]
  },
  {
   "cell_type": "markdown",
   "metadata": {},
   "source": [
    "Where:\n",
    "- $\\alpha$ represents Earth's albedo (fraction of light reflected off of Earth's surface)\n",
    "- ${L\\over4}$ is the solar radiation that reaches the Earth given that Earth is a sphere (recall all that geometry from class that thankfully cancelled out)\n",
    "\n",
    "In other words:\n",
    "\n",
    "${L\\over4}$ represents the total solar radiation that is intercepted by Earth\n",
    "\n",
    "and $(1 - \\alpha)$ represents the fraction of that radiation that is actually absorbed."
   ]
  },
  {
   "cell_type": "markdown",
   "metadata": {
    "slideshow": {
     "slide_type": "fragment"
    }
   },
   "source": [
    "#### 1. Global mean insolation (aka, sunlight in) parameter\n",
    "\n",
    "From observations, we know that the area-average incoming solar radiation at the top of our atmosphere (aka **insolation**) is $L = 1366$ $W m^{-2}$. That's $L$, which we can divide by 4, as ${L\\over 4}$ to get a term we'll call $Q$ (following convention from thermodynamics, as $Q$ represents heat in). \n",
    "\n",
    "$$ Q = {L \\over4} = {1367  W m^{-2} \\over 4} \\approx 341  W m^{-2}$$\n",
    "\n",
    "Looking at the budget diagram at the top of this notebook, we see that agrees with what is coming in. "
   ]
  },
  {
   "cell_type": "code",
   "execution_count": null,
   "metadata": {},
   "outputs": [],
   "source": [
    "# let's assign this to a variable Q:\n",
    "\n",
    "Q = 341 # W m-2"
   ]
  },
  {
   "cell_type": "markdown",
   "metadata": {
    "slideshow": {
     "slide_type": "slide"
    }
   },
   "source": [
    "#### Planetary albedo parameter\n",
    "\n",
    "We know Earth isn't a blackbody and that clouds, snow, ice, and the different surfaces reflect a lot of light), so all of this radiation is not absorbed and some just gets reflected back to space. We call the fraction of incoming light reflected albedo, or $\\alpha = {\\text{reflected light} \\over \\text{incident light}}$.\n",
    "\n",
    "We can think of albedo as a bias correction to our blackbody model. \n",
    "\n",
    "From the energy budget schematic above, we have 341 $W m^{-2}$ in and 79 $W m^{-2}$ is reflected by clouds and 23 $W m^{-2}$is reflected by the surface, therefore, we're refecting about 30% of intecepted sunlight. "
   ]
  },
  {
   "cell_type": "code",
   "execution_count": null,
   "metadata": {},
   "outputs": [],
   "source": [
    "alpha = 0.30  #  fraction of incoming radiation reflected"
   ]
  },
  {
   "cell_type": "markdown",
   "metadata": {},
   "source": [
    "OK! That's the $IN$ side of the equation. The energy absorbed by Earth from the Sun. Let's calculate it and then move on to the $OUT$ side of the equation:"
   ]
  },
  {
   "cell_type": "code",
   "execution_count": null,
   "metadata": {},
   "outputs": [],
   "source": [
    "# notice how here we are representing the energy_in equation (Eq. 2) above with code.\n",
    "E_in = (1-alpha) * Q\n",
    "print(E_in)"
   ]
  },
  {
   "cell_type": "markdown",
   "metadata": {},
   "source": [
    "### Energy Out"
   ]
  },
  {
   "cell_type": "markdown",
   "metadata": {
    "slideshow": {
     "slide_type": "slide"
    }
   },
   "source": [
    "Now, let's next consider the $\\text{ENERGY OUT}$ side, or the energy that Earth radiates back to space."
   ]
  },
  {
   "cell_type": "markdown",
   "metadata": {},
   "source": [
    "As we learned last class, if we suppose the Earth behaves like a **blackbody radiator** then it's total emissions will be a function of effective global mean **emission temperature $T_e$**.\n",
    "\n",
    "Then, using the Stefan-Boltzmann Law:\n",
    "\n",
    "$$ \\text{ENERGY OUT} = \\epsilon \\sigma T^4 $$ (Eq. 3)\n",
    "\n",
    "Where: \n",
    "- $\\sigma = 5.67 \\times 10^{-8}$ W m$^{-2}$ K$^{-4}$ (the Stefan-Boltzmann constant); this is a **constant** in our model.\n",
    "- $T$ = Earth's global mean emission temperature (K); this is the **variable** in our model.\n",
    "- $\\epsilon$ represents the emissivity of Earth's atmosphere, that is, how much light radiated from Earth actually makes it to space; this is a **parameter** in our model.\n",
    "    - For now, we have said that $\\epsilon$ = 1. From the top of our atmosphere (i.e., the Earth-space boundary) we can assume this is a good approximation.\n",
    "\n",
    "**We can just take this as a definition of the emission temperature.**"
   ]
  },
  {
   "cell_type": "markdown",
   "metadata": {},
   "source": [
    "Let's assign some variables to store the values of $\\sigma$ and $\\epsilon$."
   ]
  },
  {
   "cell_type": "code",
   "execution_count": null,
   "metadata": {},
   "outputs": [],
   "source": [
    "sigma = 5.67e-8\n",
    "epsilon = 1"
   ]
  },
  {
   "cell_type": "markdown",
   "metadata": {},
   "source": [
    "## 2. An analytical solution to our EBM: Earth's Equilibrium Temperature"
   ]
  },
  {
   "cell_type": "markdown",
   "metadata": {},
   "source": [
    "Right, so if the Earth system is in **energy balance or radiative equilibrium** then $\\text{ENERGY IN}=\\text{ENERGY OUT}$.\n",
    "\n",
    "Our model is simple enought that we can just set the two sides of the model above as equal to each other, and then solve for temperature, $T$, algebraically. \n",
    "\n",
    "\n",
    "$$(1 - \\alpha)Q = \\epsilon \\sigma T^4$$ (Eq. 4)"
   ]
  },
  {
   "cell_type": "markdown",
   "metadata": {},
   "source": [
    "Some quick algebra to solve for Earth's equilibrium temperature $T_{eq}$ reveals that it must be:"
   ]
  },
  {
   "cell_type": "markdown",
   "metadata": {},
   "source": [
    "$$ T_{eq} = \\left( \\frac{(1-\\alpha)Q}{\\epsilon \\sigma} \\right)^{\\frac{1}{4}} $$ (Eq. 5)"
   ]
  },
  {
   "cell_type": "markdown",
   "metadata": {
    "slideshow": {
     "slide_type": "fragment"
    }
   },
   "source": [
    "Let's use our knowledge of python as a calculator plus variables and assignment to compute $T$ from our observations:"
   ]
  },
  {
   "cell_type": "code",
   "execution_count": null,
   "metadata": {},
   "outputs": [],
   "source": [
    "# Try to represent Eq. 5 to compute T_eq. (hint: all necessary var's have already been defined above!)\n",
    "Teq =         # <-- Fill in the rest of this line of code \n",
    "print(Teq)"
   ]
  },
  {
   "cell_type": "markdown",
   "metadata": {},
   "source": [
    "#### Thoughts on equilibrium temperature\n",
    "\n",
    "What value did you find for the equilibrium temperature $T_{eq}$? How does it compare to the actual global mean surface temperature (288K)?"
   ]
  },
  {
   "cell_type": "code",
   "execution_count": null,
   "metadata": {},
   "outputs": [],
   "source": []
  },
  {
   "cell_type": "markdown",
   "metadata": {},
   "source": [
    "## 3. Calibrating a simple greenhouse model"
   ]
  },
  {
   "cell_type": "markdown",
   "metadata": {},
   "source": [
    "Ok, so our model doesn't accord with observations. This model estimates Earth's $T_{eq}$ to be LOWER than our observed global mean surface temperature of 288K. But does this model mean that it's bad?\n",
    "\n",
    "No — it's making a correct prediction; it's just not predicting what we think it is. Earth does emit out at the temperature you estimated above — **at the top of our atmosphere**. \n",
    "\n",
    "Our model worked perfectly, but doesn't give us the temperature where we live, on the surface.\n",
    "\n",
    "The reason is because the surface temperature is affected by the the greenhouse effect. \n",
    "\n",
    "As we discussed last class (and you can see in the Trenberth & Fasullo diagram above), *only a fraction of the light Earth emits from its surface makes it out to space.* Some of the light is absorbed by our atmosphere."
   ]
  },
  {
   "cell_type": "markdown",
   "metadata": {},
   "source": [
    "In fact, we included a parameter $\\epsilon$, to account for this, but we set it equal to 1 meaning that we were assuming that **ALL** of Earth's emitted radiation would make it to space. \n",
    "\n",
    "We need to choose a more realistic value for $\\epsilon$, and one way to do so is by **calibrating** or **tuning** that parameter to match observations."
   ]
  },
  {
   "cell_type": "markdown",
   "metadata": {},
   "source": [
    "In our model, $\\text{ENERGY OUT}$ is represented as: \n",
    "\n",
    "$$ \\text{ENERGY OUT} = \\epsilon \\sigma T^4 $$"
   ]
  },
  {
   "cell_type": "markdown",
   "metadata": {},
   "source": [
    "Let's fit this right hand side of our model to match surface observations and solve for the $\\epsilon$ paramter that gets us our observed surface temperature $T_s$.\n",
    "\n",
    "Rearranging to solve for $\\epsilon$, we get:\n",
    "\n",
    "$$ \\epsilon = \\frac{\\text{ENERGY OUT}}{\\sigma T^4} $$ (Eq. 6)"
   ]
  },
  {
   "cell_type": "markdown",
   "metadata": {},
   "source": [
    "The diagram at the top of the notebook has $\\text{ENERGY OUT}$ as **\"Outgoing Longwave Radiation\"** or **$\\text{OLR}$**, and we can see that the knowledge that observed OLR = 238.5 W m$^{-2}$.\n",
    "\n",
    "\n",
    "Let's *calibrate* or *tune* this our model parameter $\\epsilon$ by plugging in our observed values and computing:"
   ]
  },
  {
   "cell_type": "code",
   "execution_count": null,
   "metadata": {},
   "outputs": [],
   "source": [
    "T = 288 # Set T (K) to 288\n",
    "olr = 238.5 # W m-2\n",
    "\n",
    "# Tune epsilon by representing Eq. 6 below:\n",
    "epsilon = \n",
    "print(epsilon)"
   ]
  },
  {
   "cell_type": "markdown",
   "metadata": {},
   "source": [
    "*Note: Here we are tuning this model to our observations. In other words, we are finding a value for the $\\epsilon$ parameter so that our model more closely replicates the real world data.*"
   ]
  },
  {
   "cell_type": "code",
   "execution_count": null,
   "metadata": {},
   "outputs": [],
   "source": []
  },
  {
   "cell_type": "markdown",
   "metadata": {},
   "source": [
    "____________\n",
    "## 4. An analytical solution to Equilibrium **SURFACE** Temperature, with our calibrated model\n",
    "____________"
   ]
  },
  {
   "cell_type": "markdown",
   "metadata": {},
   "source": [
    "Ok, so we predicted the emission temperature from the top of the atmosphere, which is not the same as the emission temperature at the surface. \n",
    "\n",
    "So to solve this, we calibrated or tuned our model to better account for the fact that the atmosphere absorbs some fraction of the light emitted by Earth's surface. \n",
    "\n",
    "Now, let's return to our Equilibrium Temperature calculation using our newly tuned $\\epsilon$ parameter, which should better represent the influence of greenhouse gases in our atmosphere.\n",
    "\n",
    "Try it: Compute `Teq` again below, but this time, save the result in a new variable, `Teq_2`!\n",
    "\n",
    "*Hint: Copy your code from a few cells above, changing the output variable name.*"
   ]
  },
  {
   "cell_type": "code",
   "execution_count": null,
   "metadata": {},
   "outputs": [],
   "source": []
  },
  {
   "cell_type": "markdown",
   "metadata": {},
   "source": [
    "You may notice that this equilibrium temperature is slightly warmer than our current global mean surface temperature (288K). \n",
    "\n",
    "Any thoughts about why? \n",
    "\n",
    "Could this simple model tell us something about whether or not our current Earth system is in equilibrium?"
   ]
  },
  {
   "cell_type": "code",
   "execution_count": null,
   "metadata": {},
   "outputs": [],
   "source": []
  },
  {
   "cell_type": "markdown",
   "metadata": {
    "slideshow": {
     "slide_type": "slide"
    }
   },
   "source": [
    "____________\n",
    "## 5. A climate change scenario\n",
    "____________"
   ]
  },
  {
   "cell_type": "markdown",
   "metadata": {
    "slideshow": {
     "slide_type": "slide"
    }
   },
   "source": [
    "Excellent, so now we have a simple model, tuned to observations, ready to do some prediction for us.\n",
    "\n",
    "Suppose that, due to human activities, like combustion of fossil fuels, there are changes in the composition of greenhouse gases in our atmosphere, alongside some related changes in cloudiness:"
   ]
  },
  {
   "cell_type": "markdown",
   "metadata": {},
   "source": [
    "- The emissivity decreases to $\\epsilon = 0.57$, meaning Earth's atmosphere is absorbing a bit more of that upwelling longwave Earthlight.\n",
    "- The planetary albedo increases to $\\alpha = 0.32$, meaning more clouds reflecting incoming shortwave Sunlight.\n",
    "\n",
    "What is the ***new equilibrium temperature***?"
   ]
  },
  {
   "cell_type": "markdown",
   "metadata": {
    "slideshow": {
     "slide_type": "fragment"
    }
   },
   "source": [
    "For this very simple model, we can work out the answer analytically:"
   ]
  },
  {
   "cell_type": "code",
   "execution_count": null,
   "metadata": {},
   "outputs": [],
   "source": [
    "# let's first define a reusable function for equilibrium temperature, T_eq\n",
    "# This is coding a function that we can call over and over again,\n",
    "# to save us from retyping the same equilibrium equation\n",
    "\n",
    "def equilibrium_temperature(Q,alpha=0.3,epsilon=0.61): #here we've set default values for alpha and epsilon\n",
    "    \n",
    "    # set sigma value as well \n",
    "    sigma = 5.67e-8\n",
    "    \n",
    "    # complete this line of code with your eq. temp. expression (paste it from up above)\n",
    "    T_eq = \n",
    "    \n",
    "    return T_eq"
   ]
  },
  {
   "cell_type": "code",
   "execution_count": null,
   "metadata": {},
   "outputs": [],
   "source": [
    "#... and now let's compute the new Teq, with alpha as 0.32 and epsilon as 0.57\n",
    "Teq_new = equilibrium_temperature(Q, 0.32, 0.57)\n",
    "\n",
    "#  the code below is an example of printing nicely formatted output, limiting to two or one decimal places\n",
    "print('The new equilibrium temperature is {:.2f} K.'.format(Teq_new))\n",
    "print('The equilibrium temperature increased by about {:.1f} K.'.format(Teq_new-Teq_2))"
   ]
  },
  {
   "cell_type": "markdown",
   "metadata": {
    "slideshow": {
     "slide_type": "slide"
    }
   },
   "source": [
    "Great! (Not great, that amount of warming would be bad.) But great that our model allows us to test hypotheses!"
   ]
  },
  {
   "cell_type": "markdown",
   "metadata": {},
   "source": [
    "____________\n",
    "## 6. Group exercise\n",
    "____________\n",
    "Let's clean up our implementation of our model so we can do some more hypothesis testing. In groups, try the following:\n",
    "\n",
    "- Below try writing two simple functions that takes in arbitrary parameter values, $\\epsilon$ and $\\alpha$:\n",
    "    - One to calculate the $\\text{ENERGY IN}$, what we'll call **\"absorbed shortwave radiation,\"** $\\text{ASR}$ \n",
    "    - And one to calculate $\\text{ENERGY OUT}$, what we'll call **\"outgoing longwave radiation,\"** $\\text{OLR}$ \n",
    "- Pick your own new parameter values for $\\alpha$ and $\\epsilon$.\n",
    "- With the new parameter values but the old temperature $T = 288$ K, is ASR greater or lesser than OLR? \n",
    "- Is the Earth gaining or losing energy?\n",
    "- How does your answer change if $T = 295$ K (or any other temperature greater than 291 K)?"
   ]
  },
  {
   "cell_type": "markdown",
   "metadata": {},
   "source": [
    "Remember, syntax to declare a function is:\n",
    "\n",
    "```python\n",
    "# sample function\n",
    "def my_function_name(i, j, k): # <-- the arg's that function accepts between parentheses, separated by commas\n",
    "    \n",
    "    # Function body / code here (INDENTED)!\n",
    "    result = i + j + k \n",
    "    \n",
    "    return result # <-- return values/var's here \n",
    "\n",
    "```"
   ]
  },
  {
   "cell_type": "code",
   "execution_count": null,
   "metadata": {},
   "outputs": [],
   "source": [
    "# ASR and OLR functions\n",
    "\n",
    "# ASR (ENERGY IN) function (give arg's Q, alpha):\n",
    "\n",
    "# OLR (ENERGY OUT) funciton, (give arg's T, epsilon, sigma):"
   ]
  },
  {
   "cell_type": "code",
   "execution_count": null,
   "metadata": {},
   "outputs": [],
   "source": [
    "# set your own parameter values here:\n",
    "alpha = 0.3\n",
    "epsilon = 0.6\n",
    "\n",
    "# Set Temp\n",
    "T1 = 288\n",
    "T2 = 295\n",
    "\n",
    "# the lines of code below call the ASR and OLR functions, saving the new values in var's \n",
    "# asr_1 and olr_1\n",
    "asr_1 = ASR(Q, alpha)\n",
    "olr_1 = OLR(T1, epsilon, sigma)\n",
    "olr_2 = OLR(T2, epsilon, sigma)\n",
    "\n",
    "# these lines of code print the values of the new asr and olr variables\n",
    "print('ASR: {:.2f} OLR: {:.2f}'.format(asr_1, olr_1))\n",
    "print('ASR-OLR = {:.2f}'.format(asr_1 - olr_1))\n",
    "print('...')\n",
    "print('ASR: {:.2f} OLR: {:.2f}'.format(asr_1, olr_2))\n",
    "print('ASR-OLR = {:.2f}'.format(asr_1 - olr_2))"
   ]
  },
  {
   "cell_type": "markdown",
   "metadata": {
    "slideshow": {
     "slide_type": "slide"
    }
   },
   "source": [
    "____________\n",
    "## 7. A time-dependent Energy Balance Model\n",
    "____________"
   ]
  },
  {
   "cell_type": "markdown",
   "metadata": {},
   "source": [
    "Most climate models are more complicated mathematically, and solving directly for the equilibrium temperature analytically, as we've done above will not be possible.\n",
    "\n",
    "For a lot of modeling problems, we have to numerically solve them, using the computer to guess at values and converge on an answer. We did this in last week's practical with the bathtub, solving for the equilibrium water level, $WL$.\n",
    "\n",
    "But despite their simplicity, the above analytical exercises are instructive: \n",
    "\n",
    "Our simple model shows us that if some properties of the climate system change in such a way that the **equilibrium temperature changes**, then the Earth system either *receives more or less energy from the sun than it is shedding to space*. The system is **no longer in energy balance**. This difference between $\\text{ENERGY IN}$ and $\\text{ENERGY OUT}$ raises a concept called **radiative forcing**, which is defined simply as the change in what energy comes into the system and what energy leaves the system: $\\Delta(\\text{IN}-\\text{OUT})$.\n",
    "\n",
    "For example, if the $\\text{ENERGY IN}$ exceeds the $\\text{ENERGY OUT}$, then Earth's temperature must then increase to get back into balance. \n",
    "\n",
    "But this increase will not happen all at once! \n",
    "\n",
    "Just like our bathtub, it takes time for the a new steady state to emerge. It takes time for energy to accumulate in the climate system. This time matters. It gives ecosystems and societies time to adjust and respond and acclimate. \n",
    "\n",
    "We want to model this **time-dependent adjustment** of the system.\n",
    "\n",
    "Almost all climate models are **time-dependent**, meaning the model calculates **time derivatives** (rates of change) of climate variables."
   ]
  },
  {
   "cell_type": "markdown",
   "metadata": {
    "slideshow": {
     "slide_type": "slide"
    }
   },
   "source": [
    "### An energy balance equation **that considers time**\n",
    "\n",
    "We will write the **total energy budget** of the Earth system as\n",
    "\n",
    "$$\n",
    "\\begin{align} \n",
    "\\frac{dE}{dt}&= \\text{ENERGY IN – ENERGY OUT} \\\\\n",
    " &= \\text{ASR} - \\text{OLR}\n",
    "\\end{align}\n",
    "$$\n",
    "\n",
    "where $\\frac{dE}{dt}$ is the change in **[enthalpy](https://en.wikipedia.org/wiki/Enthalpy)** or **heat content** of the total system per unit time.\n",
    "\n",
    "This should be familiar. Recall how last week we modeled the water level in the bathtub:\n",
    "\n",
    "$$ \\frac{dWL}{dt} \\approx FI - FO $$\n",
    "\n",
    "We will express the budget **per unit surface area**, so each term above has units W m$^{-2}$. \n",
    "\n",
    "Note: any **internal exchanges** of energy between different reservoirs (e.g., between ocean, land, ice, atmosphere) do not appear in this budget – because $E$ is the **sum of all reservoirs**. \n",
    "\n",
    "Recall our reservoirs are just like the bathtub, holding water. Here our reservoirs are holding energy as heat.\n",
    "\n",
    "Also note: **This is a generically true statement.** We have just defined some terms, and made the (very good) assumption that the only significant energy sources are radiative exchanges with space."
   ]
  },
  {
   "cell_type": "markdown",
   "metadata": {},
   "source": [
    "**This equation is the starting point for EVERY CLIMATE MODEL.**\n",
    "\n",
    "The power of it is that we can start to relate terms in this energy budget to [state variables](https://en.wikipedia.org/wiki/State_variable) of the atmosphere-ocean system.\n",
    "\n",
    "For now, the state variable we are most interested in is **temperature** and how it evolves in response to some perturbation, or forcing."
   ]
  },
  {
   "cell_type": "markdown",
   "metadata": {},
   "source": [
    "### A dynamic energy balance **model**\n",
    "\n",
    "If we now suppose that \n",
    "\n",
    "$$ E = C T_s $$\n",
    "\n",
    "where $T_s$ is the **global mean surface temperature**, and $C$ is some constant – the **effective heat capacity** of the atmosphere-ocean column; it represents the size of our reservoir for heat, and it helps convert units of energy into units of temperature.\n",
    "\n",
    "then our budget becomes:"
   ]
  },
  {
   "cell_type": "markdown",
   "metadata": {},
   "source": [
    "\n",
    "$$ C \\frac{dT_s}{dt} = \\text{ASR} - \\text{OLR} $$"
   ]
  },
  {
   "cell_type": "markdown",
   "metadata": {},
   "source": [
    "where\n",
    "\n",
    "- $C$ is the **heat capacity** of Earth system, which we can calculate, but won't do here. It is $4\\times10^8$ J m$^{-2}$ K$^{-1}$.\n",
    "- $\\frac{dT_s}{dt}$ is the rate of change of global average surface temperature."
   ]
  },
  {
   "cell_type": "markdown",
   "metadata": {
    "slideshow": {
     "slide_type": "slide"
    }
   },
   "source": [
    "By adopting this equation, we are assuming that the energy content of the Earth system (atmosphere, ocean, ice, etc.) is *proportional to surface temperature*.\n",
    "\n",
    "Important things to think about:\n",
    "\n",
    "- Why is this a sensible assumption?\n",
    "- What are some limitations of this assumption?"
   ]
  },
  {
   "cell_type": "markdown",
   "metadata": {
    "slideshow": {
     "slide_type": "slide"
    }
   },
   "source": [
    "### Solving the energy balance model\n",
    "\n",
    "This is a first-order Ordinary Differential Equation (ODE) for $T_s$ as a function of time. It is also **our very first time-dependent climate model!**\n",
    "\n",
    "To solve it (i.e., to see how $T_s$ evolves from some specified initial condition) we have two choices:\n",
    "\n",
    "1. Solve it analytically\n",
    "2. Solve it numerically"
   ]
  },
  {
   "cell_type": "markdown",
   "metadata": {
    "slideshow": {
     "slide_type": "slide"
    }
   },
   "source": [
    "Option 1 (analytical) will usually not be possible because the equations will typically be too complex and non-linear. This is why computers are our best friends in the world of climate modeling.\n",
    "\n",
    "HOWEVER it is often useful and instructive to simplify a model down to something that is analytically solvable when possible. Why? Two reasons:\n",
    "\n",
    "1. Analysis will often yield a deeper understanding of the behavior of the system\n",
    "2. Gives us a benchmark against which to test the results of our numerical solutions."
   ]
  },
  {
   "cell_type": "markdown",
   "metadata": {
    "slideshow": {
     "slide_type": "slide"
    }
   },
   "source": [
    "____________\n",
    "## 8. Representing time derivatives on a computer\n",
    "____________"
   ]
  },
  {
   "cell_type": "markdown",
   "metadata": {},
   "source": [
    "Recall from last week's practical that the derivative is the **instantaneous rate of change**. It is defined as \n",
    "\n",
    "$$ \\frac{dT}{dt} = \\lim_{\\Delta t\\rightarrow 0}⁡ \\frac{\\Delta T}{\\Delta t}$$\n",
    "\n",
    "- **On the computer there is no such thing as an instantaneous change.** \n",
    "- We are always dealing with *discrete quantities*.\n",
    "- So we approximate the derivative with $\\Delta T/ \\Delta t$. \n",
    "- So long as we take the time interval $\\Delta t$ \"small enough\", the approximation is valid and useful.\n",
    "- (The meaning of \"small enough\" varies widely in practice, as we discussed earlier this week about the size of error terms.)"
   ]
  },
  {
   "cell_type": "markdown",
   "metadata": {
    "slideshow": {
     "slide_type": "slide"
    }
   },
   "source": [
    "So we write our model as\n",
    "\n",
    "$$ C  \\frac{\\Delta T}{\\Delta t} \\approx \\text{ASR} - \\text{OLR}$$\n",
    "\n",
    "where $\\Delta T$ is the **change in temperature predicted by our model** over a short time interval $\\Delta t$.\n",
    "\n",
    "Does this look familiar??\n"
   ]
  },
  {
   "cell_type": "markdown",
   "metadata": {},
   "source": [
    "We can now use this to **make a prediction**: \n",
    "\n",
    "Given a current temperature $T_1$ at time $t_1$, what is the temperature $T_2$ at a future time $t_2$?"
   ]
  },
  {
   "cell_type": "markdown",
   "metadata": {
    "slideshow": {
     "slide_type": "slide"
    }
   },
   "source": [
    "We can write\n",
    "\n",
    "$$ \\Delta T = T_2-T_1 $$\n",
    "$$ \\Delta t = t_2-t_1 $$\n",
    "\n",
    "and so our model says\n",
    "\n",
    "$$ C  \\frac{T_2-T_1}{\\Delta t} = \\text{ASR} - \\text{OLR} $$\n",
    "\n",
    "Which we can rearrange to **solve for the future temperature**:\n",
    "\n",
    "$$ T_2 = T_1 + \\frac{\\Delta t}{C} \\left( \\text{ASR} - \\text{OLR}(T_1) \\right)  $$\n",
    "\n",
    "This is exactly like our bathtub model from last week, except for the $C$ term. \n",
    "\n",
    "But we now have a formula with which to make our prediction!\n",
    "\n",
    "Notice that we have written the OLR as a *function of temperature*, just like our drain rate was a function of water level. We will use the current temperature $T_1$ to compute the OLR, and use that OLR to determine the future temperature."
   ]
  },
  {
   "cell_type": "markdown",
   "metadata": {
    "slideshow": {
     "slide_type": "slide"
    }
   },
   "source": [
    "____________\n",
    "## 9. Numerical solution of the Energy Balance Model\n",
    "____________"
   ]
  },
  {
   "cell_type": "markdown",
   "metadata": {},
   "source": [
    "The quantity $\\Delta t$ is called a **timestep**. It is the smallest time interval represented in our model—our temporal **grain**.\n",
    "\n",
    "Here we're going to use a timestep of 1 year:"
   ]
  },
  {
   "cell_type": "code",
   "execution_count": null,
   "metadata": {},
   "outputs": [],
   "source": [
    "dt = 60. * 60. * 24. * 365.   # one year expressed in seconds"
   ]
  },
  {
   "cell_type": "markdown",
   "metadata": {},
   "source": [
    "### Try stepping forward one timestep"
   ]
  },
  {
   "cell_type": "code",
   "execution_count": null,
   "metadata": {
    "slideshow": {
     "slide_type": "slide"
    }
   },
   "outputs": [],
   "source": [
    "# Try a single timestep, assuming we have working functions for ASR and OLR\n",
    "# Set constants:\n",
    "Q = 341 # W m-2\n",
    "sigma= 5.67e-08 #Wm-2K-4 Stefan-Boltzmann constant\n",
    "C = 4e8\n",
    "\n",
    "#Set parameters:\n",
    "alpha = 0.3\n",
    "epsilon = 0.61\n",
    "\n",
    "#Set out initial condition T(t1)\n",
    "T1 = 288. \n",
    "\n",
    "# Use our ASR and OLR functions from above!\n",
    "T2 = T1 + dt / C * ( ASR(Q,alpha) - OLR(T1, epsilon) )\n",
    "print(T2)"
   ]
  },
  {
   "cell_type": "markdown",
   "metadata": {},
   "source": [
    "***Did you get a `NameError` here?***\n",
    "\n",
    "The code above assumes that we have already defined functions `ASR()` and `OLR()`. If you haven't completed the exercise above, then the code won't work."
   ]
  },
  {
   "cell_type": "markdown",
   "metadata": {},
   "source": [
    "Let's now define the functions that we were supposed to create above:"
   ]
  },
  {
   "cell_type": "code",
   "execution_count": null,
   "metadata": {},
   "outputs": [],
   "source": [
    "def ASR(Q=Q, alpha=alpha):\n",
    "    return (1-alpha)*Q\n",
    "\n",
    "def OLR(T, epsilon=epsilon, sigma=sigma):\n",
    "    return epsilon * sigma * T**4"
   ]
  },
  {
   "cell_type": "markdown",
   "metadata": {},
   "source": [
    "Now we'll try again..."
   ]
  },
  {
   "cell_type": "code",
   "execution_count": null,
   "metadata": {},
   "outputs": [],
   "source": [
    "# Try a single timestep, assuming we have working functions for ASR and OLR\n",
    "T1 = 288.\n",
    "T2 = T1 + dt / C * ( ASR(alpha=0.3) - OLR(T1, epsilon=0.61) )\n",
    "print(T2)"
   ]
  },
  {
   "cell_type": "markdown",
   "metadata": {},
   "source": [
    "What happened? Why?"
   ]
  },
  {
   "cell_type": "markdown",
   "metadata": {
    "slideshow": {
     "slide_type": "slide"
    }
   },
   "source": [
    "Try another timestep"
   ]
  },
  {
   "cell_type": "code",
   "execution_count": null,
   "metadata": {},
   "outputs": [],
   "source": [
    "T1 = T2\n",
    "T2 = T1 + dt / C * ( ASR(alpha=0.3) - OLR(T1, epsilon=0.61) )\n",
    "print(T2)"
   ]
  },
  {
   "cell_type": "markdown",
   "metadata": {},
   "source": [
    "Warmed up again, but by a smaller amount."
   ]
  },
  {
   "cell_type": "markdown",
   "metadata": {
    "slideshow": {
     "slide_type": "slide"
    }
   },
   "source": [
    "But this is tedious typing. Time to **define a function** to make things easier and more reliable:"
   ]
  },
  {
   "cell_type": "code",
   "execution_count": null,
   "metadata": {},
   "outputs": [],
   "source": [
    "def step_forward(T): \n",
    "    return T + dt / C * ( ASR(alpha=0.3) - OLR(T, epsilon=0.61) )\n",
    "# This is just giving us a T2 for an arbitrary initial temperature, T"
   ]
  },
  {
   "cell_type": "markdown",
   "metadata": {
    "slideshow": {
     "slide_type": "slide"
    }
   },
   "source": [
    "Try it out with an arbitrary temperature:"
   ]
  },
  {
   "cell_type": "code",
   "execution_count": null,
   "metadata": {},
   "outputs": [],
   "source": [
    "step_forward(300.)"
   ]
  },
  {
   "cell_type": "markdown",
   "metadata": {},
   "source": [
    "Notice that our function calls other functions and variables we have already defined."
   ]
  },
  {
   "cell_type": "markdown",
   "metadata": {
    "slideshow": {
     "slide_type": "slide"
    }
   },
   "source": [
    "#### Python fact: Functions can access variables and other functions defined outside of the function. \n",
    "\n",
    "This is both very useful and occasionally confusing."
   ]
  },
  {
   "cell_type": "markdown",
   "metadata": {
    "slideshow": {
     "slide_type": "slide"
    }
   },
   "source": [
    "### Automate the timestepping with a loop\n",
    "\n",
    "Now let's really harness the power of the computer by **making a loop** (and storing values in arrays):"
   ]
  },
  {
   "cell_type": "code",
   "execution_count": null,
   "metadata": {},
   "outputs": [],
   "source": [
    "import numpy as np # we need this \"library\" of nice functions other people have written\n",
    "\n",
    "numsteps = 20 # here are the number of timesteps\n",
    "temps = np.zeros(numsteps+1) # Empty vector to track temperatures (+1 is because we want to store the initial temperature)\n",
    "years = np.zeros(numsteps+1) # Empty vector to track timesteps (years)\n",
    "temps[0] = 288. # editing the first element of the temp vector to be the initial temperature (288K)\n",
    "\n",
    "# for each time step \"n\"\n",
    "for t in range(numsteps): \n",
    "    \n",
    "    # add the next value to the time step tracker (where in time is our algorithm?)\n",
    "    years[t+1] = t+1 \n",
    "    # use current Temp at time t and the \"step_forward\" function to predict T at t+1\n",
    "    temps[t+1] = step_forward( temps[t] )\n",
    "    \n",
    "print(temps)"
   ]
  },
  {
   "cell_type": "markdown",
   "metadata": {},
   "source": [
    "What did we just do?\n",
    "\n",
    "- Created an array of zeros\n",
    "- set the initial temperature to 288 K\n",
    "- repeated our time step 20 times. \n",
    "- Stored the results of each time step into the array."
   ]
  },
  {
   "cell_type": "markdown",
   "metadata": {
    "slideshow": {
     "slide_type": "slide"
    }
   },
   "source": [
    "#### Python fact: the `for` statement executes a statement (or series of statements) a specified number of times (a loop!)"
   ]
  },
  {
   "cell_type": "markdown",
   "metadata": {
    "slideshow": {
     "slide_type": "slide"
    }
   },
   "source": [
    "#### Python fact: Use square bracket [ ] to refer to elements of an array or list. Use round parentheses ( ) for function arguments. "
   ]
  },
  {
   "cell_type": "markdown",
   "metadata": {
    "slideshow": {
     "slide_type": "slide"
    }
   },
   "source": [
    "### Plotting the result\n",
    "\n",
    "Now let's draw a picture of our result!"
   ]
  },
  {
   "cell_type": "code",
   "execution_count": null,
   "metadata": {},
   "outputs": [],
   "source": [
    "# a special instruction for the Jupyter notebook\n",
    "#   Display all plots inline in the notebook\n",
    "%matplotlib inline  \n",
    "#  import the plotting package\n",
    "import matplotlib.pyplot as plt"
   ]
  },
  {
   "cell_type": "code",
   "execution_count": null,
   "metadata": {},
   "outputs": [],
   "source": [
    "fig, ax = plt.subplots()\n",
    "ax.plot(years, temps)\n",
    "ax.set(xlabel='Time [years]', ylabel='Global mean temperature [K]', title='Surface temperature of Earth');"
   ]
  },
  {
   "cell_type": "markdown",
   "metadata": {
    "slideshow": {
     "slide_type": "slide"
    }
   },
   "source": [
    "Note how the temperature *adjusts smoothly toward the equilibrium temperature*, that is, the temperature at which\n",
    "ASR = OLR.\n",
    "\n",
    "**If the planetary energy budget is out of balance, the temperature must change so that the OLR gets closer to the ASR!**\n",
    "\n",
    "The adjustment is actually an *exponential decay* process: The rate of adjustment slows as the temperature approaches equilibrium. \n",
    "\n",
    "The temperature gets very very close to equilibrium but never reaches it exactly."
   ]
  },
  {
   "cell_type": "markdown",
   "metadata": {
    "slideshow": {
     "slide_type": "slide"
    }
   },
   "source": [
    "____________\n",
    "## 10. New Level of Complexity: A Single Layer Atmosphere\n",
    "____________"
   ]
  },
  {
   "cell_type": "markdown",
   "metadata": {},
   "source": [
    "So using some model 'calibration', we've **bias corrected** our model to recover the emission temperature of Earth's surface. \n",
    "\n",
    "Instead of just calibrating a **[parameterization scheme](https://en.wikipedia.org/wiki/Parametrization_(atmospheric_modeling))** for emissivity, $\\epsilon$, that is tuned to observations, we can also show analytically that it **must always be the case that the surface temperature is higher than the temperature at the atmosphere-space boundary, or top of the atmopshere (TOA).**\n",
    "\n",
    "Why? Well, the atmosphere is full of air, which is a substance, and therefore, like any other matter, the atmosphere absorbs and emits light (heat energy)! \n",
    "\n",
    "Right so we know:\n",
    "\n",
    "- That the Sun and Earth radiate at different temperatures; the Sun is hot (6000K) and the Earth is cold (255K).\n",
    "\n",
    "- And we know from **Wien's Law** that the wavelength, $\\lambda$, at which an object emits its peak intensity of light (i.e., $\\lambda_{max}$) is inversely related to that object's temperature, $T$:\n",
    "$$\\lambda_{max} = \\frac{\\beta}{T}$$\n",
    "\n",
    "Here, $\\beta$ is just some **constant**.\n",
    "\n",
    "What Wien's Law is telling us then is that the peak intensity of light for the Sun and Earth are different because they have different temperatures. \n",
    "\n",
    "The Sun emits **shortwave** radiation or light (i.e., its wavelength, $\\lambda$ [cm], is short, its frequency, $\\nu$ [sec$^{-1}$],is high, its wavenumber, $n$, [cm$^{-1}$] is high); its peak intensity is in the visible part of the light spectrum. \n",
    "\n",
    "The Earth, on the other hand, emits **longwave** radiation or light (i.e., its wavelength, $\\lambda$ [cm], is long, its frequency, $\\nu$ [sec$^{-1}$],is low, its wavenumber, $n$, [cm$^{-1}$] is low); its peak intensity is in the infrared part of the electromagnetic spectrum.\n",
    "\n",
    "This different character of the \"color\" of the light emitted by the Sun and Earth matters for our energy budget. We saw that when we *tuned* our model's emissivity *parameter*. The reason is that our atmopshere is transparent to some colors of light (like a pane of glass) and opaque to others (like a wall). \n",
    "\n",
    "Shortwave radiation from the Sun passes through Earth's atmosphere without being absorbed-just like light through a glass window. This is because the molecules of the gases in the atmopshere do not oscillate at the high frequencies of sunlight. The gases are like a piano with missing notes - they cannot play the Sun's song. \n",
    "\n",
    "The surface of the Earth absorbs the shortwave radiation, as molecules in the land and ocean do oscillate at sunlight's frequencies. The Earth heats up from the ground to some temperature and in response, it emits light at a frequency consistent with Wien's Law. For the Earth, its temperature sets up longwave emission back up to space. But that longwave radiation or light, does get absorbed by the gases in our atmopshere. That longwave light is playing the same \"musical note\" that the molecules know how to play, and so the molecules resonate and absorb that longwave radiation. \n",
    "\n",
    "**Kirchoff's Law** says that if you absorb, you must emit, and so these molecules of gas in our atmosphere emit that radiation too - back toward the surface and up into the atmosphere above."
   ]
  },
  {
   "cell_type": "markdown",
   "metadata": {},
   "source": [
    "The plot below is complex.\n",
    "\n",
    "Get in groups and think about it. How does the atmosphere's absorption profile line up with the Earth and Sun's blackbody curves (Planck functions)?\n",
    "\n",
    "The top subplot below represents the normalized blackbody emission spectra for the Sun (6000K) and the Earth (255K). \n",
    "\n",
    "The second two subplots show atmospheric absorption percentage as a function of wavelength of light at the two levels we've been considering: (1) the surface of Earth, and (2) the top of our atmosphere, near space (TOA). \n",
    "\n",
    "The subplots also show some of the gases that absorb at particular frequencies - i.e., the different \"notes\" the gases know how to play. If they can play the note, they absorb and emit, meaning they contribute to warming. "
   ]
  },
  {
   "cell_type": "markdown",
   "metadata": {},
   "source": [
    "- Based on this plot: Where along the electromagnetic spectrum does the sun mainly emit light? What about the Earth?\n",
    "- Are there any particular gases that correspond to those peaks?"
   ]
  },
  {
   "cell_type": "markdown",
   "metadata": {},
   "source": [
    "<div>\n",
    "<img src=https://brian-rose.github.io/ClimateLaboratoryBook/_images/MarshallPlumbFig2.5.png width=\"700\">\n",
    "<div>"
   ]
  },
  {
   "cell_type": "markdown",
   "metadata": {},
   "source": [
    "### Let's diagram out a model that assumes the atmosphere is one homogenous layer to see how it affects surface temperature"
   ]
  },
  {
   "cell_type": "markdown",
   "metadata": {
    "slideshow": {
     "slide_type": "slide"
    }
   },
   "source": [
    "Below we have a simple conceptual model of a single layer of atmosphere that is able to absorb and emit longwave radiation."
   ]
  },
  {
   "cell_type": "markdown",
   "metadata": {},
   "source": [
    "<div>\n",
    "<img src=https://brian-rose.github.io/ClimateLaboratoryBook/_images/1layerAtm_sketch.png width=\"500\">\n",
    "<div>"
   ]
  },
  {
   "cell_type": "markdown",
   "metadata": {
    "slideshow": {
     "slide_type": "slide"
    }
   },
   "source": [
    "### Assumptions\n",
    "\n",
    "- Atmosphere is a single layer of air at temperature $T_a$\n",
    "- Atmosphere is **completely transparent to shortwave** solar radiation.\n",
    "- The **surface** absorbs shortwave radiation $(1-\\alpha) Q$\n",
    "- Atmosphere is **completely opaque to infrared** radiation\n",
    "- Both surface and atmosphere emit radiation as **blackbodies** ($\\sigma T_s^4, \\sigma T_a^4$)\n",
    "- Atmosphere radiates **equally up and down** ($\\sigma T_a^4$)\n",
    "- There are no other heat transfer mechanisms\n",
    "\n",
    "We can now use the concept of energy balance to ask what the temperature needs to be in order to balance the energy budgets (i.e. the **radiative equilibrium temperatures**) at TWO levels:\n",
    "\n",
    "- the surface \n",
    "- the atmosphere"
   ]
  },
  {
   "cell_type": "markdown",
   "metadata": {
    "slideshow": {
     "slide_type": "slide"
    }
   },
   "source": [
    "### Energy balance at the surface\n",
    "\n",
    "We know that a square meter of Earth's surface has to obey the laws of physics, so energetically:\n",
    "\n",
    "$$\\text{ENERGY IN} = \\text{ENERGY OUT}$$\n",
    "\n",
    "So we can formalize this in our model as what comes in from the Sun, $(1-\\alpha)Q$, plus an additional term, $\\sigma T_a^4$, which is just the emission of heat from the atmosphere back to the ground. This downwelling infrared radition from the atmosphere is called **back radiation**:\n",
    "\n",
    "$$(1-\\alpha) Q + \\sigma T_a^4 = \\sigma T_s^4 $$\n",
    "\n",
    "Ok, so that's the surface. What about the atmosphere itself?"
   ]
  },
  {
   "cell_type": "markdown",
   "metadata": {
    "slideshow": {
     "slide_type": "slide"
    }
   },
   "source": [
    "### Energy balance for the atmosphere\n",
    "\n",
    "Like the surface, the atmosphere also has to obey the laws of physics - what goes in, must come out. \n",
    "$$\\text{ENERGY IN} = \\text{ENERGY OUT}$$\n",
    "\n",
    "So, referring to our schematic above we have:\n",
    "\n",
    "$$\\sigma T_s^4 = \\sigma T_a^4(\\uparrow) + \\sigma T_a^4(\\downarrow) = 2 \\sigma T_a^4$$\n",
    "\n",
    "\n",
    "Awesome! So we have two equations (one for the surface, one for the atmosphere) and two unknowns ($T_s$ and $T_a$). "
   ]
  },
  {
   "cell_type": "markdown",
   "metadata": {},
   "source": [
    "Looking at our conceptual model, we know that what goes in must come out, and that holds at the top of our atmosphere. \n",
    "\n",
    "We can see that at TOA, $(1-\\alpha)Q$ must equal $\\sigma T_a^4$:\n",
    "\n",
    "$$(1-\\alpha)Q = \\sigma T_a^4$$\n",
    "\n",
    "Therefore, we avoid solving a simultaneous system of equations. We put $T_a$ and $T_s$ in terms of one another.\n",
    "\n",
    "$$\\sigma T_a^4 + \\sigma T_a^4 = \\sigma T_s^4$$\n",
    "\n",
    "We can then solve:\n",
    "\n",
    "$$2\\sigma T_a^4 = \\sigma T_s^4$$\n",
    "\n",
    "Therefore:\n",
    "\n",
    "$$ T_s = 2^\\frac{1}{4} T_a \\approx 1.2 T_a $$\n",
    "\n",
    "So we have just determined that, in order to have a purely **radiative equilibrium**, we must have $T_s > T_a$. *The surface must be warmer than the atmosphere.*\n",
    "\n",
    "The surface is about 20% warmer than the top of our atmopshere. "
   ]
  },
  {
   "cell_type": "markdown",
   "metadata": {
    "slideshow": {
     "slide_type": "slide"
    }
   },
   "source": [
    "### Solve for the radiative equilibrium surface temperature\n",
    "\n",
    "Now plug this into the surface equation to find\n",
    "\n",
    "$$ \\frac{1}{2} \\sigma T_s^4 = (1-\\alpha) Q  $$\n",
    "\n",
    "and use the definition of the emission temperature $T_e$ to write\n",
    "\n",
    "$$ (1-\\alpha) Q = \\sigma T_e^4 $$\n",
    "\n",
    "*In fact, in this model, $T_e$ is identical to the atmospheric temperature $T_a$, since all the OLR originates from this layer.*"
   ]
  },
  {
   "cell_type": "markdown",
   "metadata": {
    "slideshow": {
     "slide_type": "slide"
    }
   },
   "source": [
    "Solve for the surface temperature:\n",
    "\n",
    "$$ T_s = 2^\\frac{1}{4} T_e $$\n",
    "\n",
    "Putting in observed numbers, $T_e = 255$ K gives a surface temperature of \n",
    "\n",
    "$$T_s = 303 ~\\text{K}$$\n",
    "\n",
    "This model is one small step closer to reality: the surface is warmer than atmosphere, emissions that go out to space are generated in the atmosphere, and atmosphere heated from below and helping to keep surface warm."
   ]
  },
  {
   "cell_type": "markdown",
   "metadata": {
    "slideshow": {
     "slide_type": "slide"
    }
   },
   "source": [
    "### Why does this model overpredict the surface temperature\n",
    "\n",
    "Our model now overpredicts the surface temperature by about 15ºC (303 K versus the observed 288 K).\n",
    "\n",
    "Any ideas about why?"
   ]
  },
  {
   "cell_type": "code",
   "execution_count": null,
   "metadata": {},
   "outputs": [],
   "source": []
  },
  {
   "cell_type": "markdown",
   "metadata": {},
   "source": [
    "Special thanks to Brian Rose and the Climate Laboratory. "
   ]
  }
 ],
 "metadata": {
  "kernelspec": {
   "display_name": "Python nvas311",
   "language": "python",
   "name": "nvas311"
  },
  "language_info": {
   "codemirror_mode": {
    "name": "ipython",
    "version": 3
   },
   "file_extension": ".py",
   "mimetype": "text/x-python",
   "name": "python",
   "nbconvert_exporter": "python",
   "pygments_lexer": "ipython3",
   "version": "3.8.2"
  }
 },
 "nbformat": 4,
 "nbformat_minor": 2
}
